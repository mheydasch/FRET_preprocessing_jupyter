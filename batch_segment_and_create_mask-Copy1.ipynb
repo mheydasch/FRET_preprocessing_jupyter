{
 "cells": [
  {
   "cell_type": "markdown",
   "metadata": {},
   "source": [
    "# Apply pixel classifier on all images in a folder,  create corresponding mask"
   ]
  },
  {
   "cell_type": "code",
   "execution_count": 1,
   "metadata": {},
   "outputs": [
    {
     "name": "stderr",
     "output_type": "stream",
     "text": [
      "/Users/max/opt/anaconda3/lib/python3.7/site-packages/skimage/io/manage_plugins.py:23: UserWarning: Your installed pillow version is < 8.1.2. Several security issues (CVE-2021-27921, CVE-2021-25290, CVE-2021-25291, CVE-2021-25293, and more) have been fixed in pillow 8.1.2 or higher. We recommend to upgrade this library.\n",
      "  from .collection import imread_collection_wrapper\n"
     ]
    }
   ],
   "source": [
    "from scipy import ndimage\n",
    "from scipy import signal\n",
    "from skimage.morphology import binary_erosion\n",
    "import sys\n",
    "\n",
    "from sklearn.ensemble import RandomForestClassifier\n",
    "import glob\n",
    "import os\n",
    "import pickle as pkl\n",
    "from skimage import io\n",
    "#from csbdeep.utils import normalize\n",
    "import numpy as np\n",
    "import skimage\n",
    "from skimage.morphology import square\n",
    "import scipy\n",
    "from skimage.segmentation import expand_labels\n",
    "import matplotlib.pyplot as plt\n",
    "import pandas as pd\n",
    "sys.path.append(os.path.realpath('/Users/max/Desktop/Scripts_for_max/'))\n",
    "from semantic_segmentation import init_VGG16_pyramid, fd_VGG16_pyramid\n",
    "from magicgui import magicgui\n",
    "import napari\n",
    "import re\n",
    "\n",
    "print('all modules imported')\n"
   ]
  },
  {
   "cell_type": "code",
   "execution_count": 2,
   "metadata": {},
   "outputs": [],
   "source": [
    "def spot_mask_from_labels(labels):\n",
    "    '''takes label mask, shrinks objects and subtracts from original image.'''\n",
    "    stim_width = 25\n",
    "    footprint = np.ones((stim_width,stim_width))\n",
    "    labels_b = labels>0\n",
    "    labels_b_ero = binary_erosion(labels_b,footprint)\n",
    "    labels_b_sub = np.logical_xor(labels_b,labels_b_ero)\n",
    "    labels_b_sub = labels_b_sub.astype('uint8')\n",
    "    labels_sub = np.multiply(labels_b_sub,labels)\n",
    "    \n",
    "    df = pd.DataFrame()\n",
    "    props = skimage.measure.regionprops(labels)\n",
    "    for prop in props[:]:\n",
    "        df_spot = pd.DataFrame({'cell_label': [prop.label],'cell_x': [prop.centroid[0]], 'cell_y':[prop.centroid[1]], 'cell_area': [prop.area],'stim_width':[stim_width]})\n",
    "        df = df.append(df_spot)\n",
    "\n",
    "    return labels_b_sub,df\n",
    "\n",
    "def frame_to_labels(frame):\n",
    "    #f_h2b = frame[1,:,:].copy()\n",
    "    f_h2b = frame[:,:].copy()\n",
    "    f_h2b_scaled = normalize(f_h2b, 5,95)\n",
    "    features = fd_VGG16_pyramid(f_h2b_scaled,models,shapes)\n",
    "    to_predict = features.reshape(np.shape(features)[0]*np.shape(features)[1],np.shape(features)[2])\n",
    "    prediction_list = clf.predict_proba(to_predict)[:,0]\n",
    "    prediction_img = np.reshape(prediction_list, f_h2b_scaled.shape)\n",
    "    #now run watershed on segmentaion, using no seed\n",
    "    prediction_img = prediction_img>0.5\n",
    "    prediction_img = skimage.morphology.erosion(prediction_img, square(5))\n",
    "    prediction_img = skimage.morphology.remove_small_objects(prediction_img, min_size = 100**2)\n",
    "    prediction_img = scipy.ndimage.morphology.binary_fill_holes(prediction_img)\n",
    "        \n",
    "    #labels = skimage.segmentation.watershed(-distance_img, mask = prediction_img)#, mask=prediction_img>0.5)\n",
    "    labels = skimage.segmentation.watershed(~prediction_img, mask = prediction_img)\n",
    "\n",
    "    return labels\n"
   ]
  },
  {
   "cell_type": "markdown",
   "metadata": {},
   "source": [
    "### Import the classifier you want to use"
   ]
  },
  {
   "cell_type": "code",
   "execution_count": 3,
   "metadata": {},
   "outputs": [],
   "source": [
    "file = open(\"/Users/max/Desktop/Scripts_for_max/classifier_max_2021-10-15_DLC1.pkl\", \"rb\")\n",
    "clf = pkl.load(file)\n",
    "file.close()"
   ]
  },
  {
   "cell_type": "code",
   "execution_count": 16,
   "metadata": {},
   "outputs": [],
   "source": [
    "file = open(\"/Users/max/Desktop/Scripts_for_max/classifier_max_2021-10-15_DLC1.pkl\", \"wb\")\n",
    "pkl.dump(clf, file)\n",
    "\n",
    "file.close()"
   ]
  },
  {
   "cell_type": "code",
   "execution_count": 11,
   "metadata": {},
   "outputs": [],
   "source": [
    "input_folder = '/Volumes/imaging.data/Max/REF52/DLC_1/FRET/FRET_7/'\n",
    "output_folder_segmentation = '/Volumes/imaging.data/Max/REF52/DLC_1/FRET/FRET_7/ratio/'\n",
    "#change experiment ID\n",
    "Experiment_ID='FRET_13'\n",
    "ch1_flatfield=io.imread('/Volumes/imaging.data/Max/REF52/DLC_1/FRET/FRET_13/flatfield/Averaged_FRET_flatfield.tif')\n",
    "ch2_flatfield=io.imread('/Volumes/imaging.data/Max/REF52/DLC_1/FRET/FRET_13/flatfield/Averaged_CFP_flatfield.tif')\n",
    "ch1_darkcurrent=io.imread('/Volumes/imaging.data/Max/REF52/DLC_1/FRET/FRET_14/filtertest/dark_current/Averaged_FRET_darkcurrent.tif')\n",
    "ch2_darkcurrent=io.imread('/Volumes/imaging.data/Max/REF52/DLC_1/FRET/FRET_14/filtertest/dark_current/Averaged_CFP_darkcurrent.tif')\n",
    "\n",
    "ch2='CFP'\n",
    "ch1='FRET'"
   ]
  },
  {
   "cell_type": "code",
   "execution_count": 12,
   "metadata": {},
   "outputs": [
    {
     "name": "stdout",
     "output_type": "stream",
     "text": [
      "defined preprocessing functions\n"
     ]
    }
   ],
   "source": [
    "#CFP_corrected, masked_frame=flatfield_preprocessing(CFPframe, ch2_flatfield, frame_segmented)\n",
    "\n",
    "def normalize(x, pmin=3, pmax=99.8, axis=None, clip=False, eps=1e-20, dtype=np.float32):\n",
    "    \"\"\"Percentile-based image normalization.\"\"\"\n",
    "\n",
    "    mi = np.percentile(x,pmin,axis=axis,keepdims=True)\n",
    "    ma = np.percentile(x,pmax,axis=axis,keepdims=True)\n",
    "    return normalize_mi_ma(x, mi, ma, clip=clip, eps=eps, dtype=dtype)\n",
    "def normalize_mi_ma(x, mi, ma, clip=False, eps=1e-20, dtype=np.float32):\n",
    "    if dtype is not None:\n",
    "        x   = x.astype(dtype,copy=False)\n",
    "        mi  = dtype(mi) if np.isscalar(mi) else mi.astype(dtype,copy=False)\n",
    "        ma  = dtype(ma) if np.isscalar(ma) else ma.astype(dtype,copy=False)\n",
    "        eps = dtype(eps)\n",
    "\n",
    "    try:\n",
    "        import numexpr\n",
    "        x = numexpr.evaluate(\"(x - mi) / ( ma - mi + eps )\")\n",
    "    except ImportError:\n",
    "        x =                   (x - mi) / ( ma - mi + eps )\n",
    "\n",
    "    if clip:\n",
    "        x = np.clip(x,0,1)\n",
    "\n",
    "    return x\n",
    "def bg_calculation(masked_frame):\n",
    "    #hist, bins = np.histogram(masked_frame, bins=50)\n",
    "    #width = 0.7 * (bins[1] - bins[0])\n",
    "    #center = (bins[:-1] + bins[1:]) / 2\n",
    "#    plt.bar(center, hist, align='center', width = width)\n",
    "#    plt.ylim(0,450000)\n",
    "#    plt.xlim(0,750)\n",
    "    #bg = np.percentile(bins[0:30], 75)\n",
    "    bg = np.median(masked_frame)\n",
    "    return bg\n",
    "\n",
    "# Actual background substraction\n",
    "def background_sub(image, bg):\n",
    "    global bg_mask\n",
    "    bg_z_image = image - bg\n",
    "    bg_mask = np.zeros_like(bg_z_image)\n",
    "    bg_mask[bg_z_image > 0] = 1\n",
    "    bg_z_image = bg_mask*bg_z_image\n",
    "    bg_z_image = bg_z_image.astype(np.float32) \n",
    "    return bg_z_image\n",
    "\n",
    "def bg_correct(image, masked_frame):\n",
    "    bg_calc = bg_calculation(masked_frame)\n",
    "    corr_im = background_sub(image,bg_calc)\n",
    "    return corr_im\n",
    "def flatfield_preprocessing(img, flatfield, frame_segmented, dark_current):\n",
    "    #flatfield=signal.medfilt(flatfield, kernel_size=[11,11])\n",
    "    dark_current=ndimage.median_filter(dark_current, size=8)\n",
    "    dark_corrected=bg_correct(img, dark_current)#img - dark_current\n",
    "    \n",
    "    flatfield=ndimage.median_filter(flatfield, size=8)\n",
    "    imgcorrected=np.divide(dark_corrected, flatfield)\n",
    "    #grow the background mask\n",
    "\n",
    "    frame_segmented=ndimage.morphology.binary_dilation(frame_segmented, iterations=30)\n",
    "    \n",
    "\n",
    "    \n",
    "    \n",
    "    masked_frame=imgcorrected.copy()\n",
    "    masked_frame[frame_segmented>0]=0\n",
    "    \n",
    "    #bg_corrected=dark_corrected\n",
    "    bg_corrected=bg_correct(imgcorrected, masked_frame)\n",
    "    \n",
    "    #plt.imshow(bg_corrected, cmap = 'gray')\n",
    "    return bg_corrected, masked_frame\n",
    "    #return imgcorrected, masked_frame\n",
    "def image_ratioing(f, c, path, filename):\n",
    "    '''\n",
    "    needs as inputs the fret image, the CFP image, the path to the images, the filename of one of the images\n",
    "    . needs to be called after flatfield correction\n",
    "    '''\n",
    "    #print(type(f))\n",
    "    #print(type(c))    \n",
    "    FRETratio=np.divide(f, c)\n",
    "    #print('fretframe')\n",
    "    #plt.imshow(f, cmap = 'gray')\n",
    "    #plt.show()\n",
    "    #print('CFPframe')\n",
    "    #plt.imshow(c, cmap = 'gray')\n",
    "    #plt.show()\n",
    "\n",
    "\n",
    "    #print('saving: ', savestr)\n",
    "    return FRETratio\n",
    "\n",
    "print('defined preprocessing functions' )\n",
    "\n"
   ]
  },
  {
   "cell_type": "markdown",
   "metadata": {},
   "source": [
    "### Set input and output folders"
   ]
  },
  {
   "cell_type": "code",
   "execution_count": null,
   "metadata": {},
   "outputs": [],
   "source": []
  },
  {
   "cell_type": "markdown",
   "metadata": {},
   "source": [
    "### Search images"
   ]
  },
  {
   "cell_type": "code",
   "execution_count": 13,
   "metadata": {},
   "outputs": [
    {
     "name": "stdout",
     "output_type": "stream",
     "text": [
      "Found 256 input files.\n",
      "Last file: /Volumes/imaging.data/Max/REF52/DLC_1/FRET/FRET_7/flatfield_4_w26TIRFFRETacceptor.TIF\n"
     ]
    }
   ],
   "source": [
    "FRETfilenames = sorted(glob.glob(os.path.join(input_folder,'*FRET*.TIF')))\n",
    "CFPfilenames = sorted(glob.glob(os.path.join(input_folder,'*CFP*.TIF')))\n",
    "print(f'Found {len(FRETfilenames)} input files.')\n",
    "print(f'Last file: {FRETfilenames[-2]}')\n",
    "raw = io.imread(FRETfilenames[-1])"
   ]
  },
  {
   "cell_type": "code",
   "execution_count": 14,
   "metadata": {},
   "outputs": [
    {
     "data": {
      "image/png": "[encoded data removed]",
      "text/plain": [
       "<Figure size 432x288 with 1 Axes>"
      ]
     },
     "metadata": {
      "needs_background": "light"
     },
     "output_type": "display_data"
    },
    {
     "data": {
      "image/png": "[encoded data removed]",
      "text/plain": [
       "<Figure size 432x288 with 1 Axes>"
      ]
     },
     "metadata": {
      "needs_background": "light"
     },
     "output_type": "display_data"
    }
   ],
   "source": [
    "fov = 0\n",
    "raw = io.imread(FRETfilenames[0])\n",
    "frame = raw\n",
    "norm_min = 5\n",
    "norm_max = 95\n",
    "f_h2b = frame[:,:].copy()\n",
    "annotation_frame = normalize(f_h2b, norm_min,norm_max)\n",
    "norm_min = 5\n",
    "norm_max = 95\n",
    "shapes = [(512,512),(64,64),(32,32)]\n",
    "#shapes = [(540,540),(68,68),(32,32)]\n",
    "models = init_VGG16_pyramid(shapes)\n",
    "plt.imshow(frame)\n",
    "plt.show()\n",
    "plt.imshow(io.imread(CFPfilenames[0]))\n",
    "plt.show()"
   ]
  },
  {
   "cell_type": "code",
   "execution_count": 15,
   "metadata": {},
   "outputs": [
    {
     "name": "stderr",
     "output_type": "stream",
     "text": [
      "/Users/max/opt/anaconda3/lib/python3.7/site-packages/napari/_qt/__init__.py:54: UserWarning: \n",
      "\n",
      "IMPORTANT:\n",
      "You are using QT version 5.12.1, but version 5.12 was also found in your environment.\n",
      "This usually happens when you 'conda install' something that also depends on PyQt\n",
      "*after* you have pip installed napari (such as jupyter notebook).\n",
      "You will likely run into problems and should create a fresh environment.\n",
      "If you want to install conda packages into the same environment as napari,\n",
      "please add conda-forge to your channels: https://conda-forge.org\n",
      "\n",
      "  warn(message=warn_message)\n"
     ]
    }
   ],
   "source": [
    "#create the classifier\n",
    "clf = RandomForestClassifier(random_state=0)\n",
    "\n",
    "# create feature extractor and apply \n",
    "#shapes = [(1024,1024),(512,512),(256,256),(128,128),(64,64)]\n",
    "shapes = [(512,512),(64,64),(32,32)]\n",
    "models = init_VGG16_pyramid(shapes)\n",
    "features = fd_VGG16_pyramid(annotation_frame,models,shapes)\n",
    "\n",
    "\n",
    "@magicgui(call_button='train classifier')\n",
    "def clf_widget():\n",
    "    #run everytime the train button is pressed\n",
    "    #extract the labels\n",
    "    annotations = np.array(labels_layer.data)\n",
    "    X,y = annotations_to_tensor(features,annotations)\n",
    "    clf.fit(X, y) #train the classifier on the new labels\n",
    "    #now predict the rest of the image with the new clf\n",
    "    to_predict = features.reshape(np.shape(features)[0]*np.shape(features)[1],np.shape(features)[2])\n",
    "    prediction_list = clf.predict_proba(to_predict)[:,0]\n",
    "    prediction_img = np.reshape(prediction_list, annotation_frame.shape)\n",
    "    \n",
    "    #display the new prediciton\n",
    "    prediction_layer.visible = True\n",
    "    prediction_layer.data = prediction_img\n",
    "    return clf\n",
    "\n",
    "def annotations_to_tensor(feature_matrix,mask):\n",
    "    #feature matrix dim: [x,y,nb_features]\n",
    "    #possible mask elements: 0: not annotated, int[1,2]: class annotation\n",
    "    y_labels=[] #where class labels are stored\n",
    "    X_features=[] #where feature vectors are stored\n",
    "    for x,y in np.argwhere(mask!=0):\n",
    "        y_labels.append(mask[x,y])\n",
    "        #X_features.append(feature_matrix[x,y,:])\n",
    "        X_features.append(feature_matrix[x,y,])\n",
    "    #turn list into np array\n",
    "    X_features = np.asarray(X_features)\n",
    "    return X_features,y_labels\n",
    "\n",
    "viewer = napari.view_image(annotation_frame, name=\"My Image\")\n",
    "\n",
    "\n",
    "labels_layer = viewer.add_labels(np.zeros_like(annotation_frame).astype(int), seed = 0)\n",
    "viewer.window.add_dock_widget(clf_widget)\n",
    "prediction_layer = viewer.add_image(np.zeros_like(annotation_frame),colormap='PiYG')\n",
    "prediction_layer.visible = False\n",
    "prediction_layer.name = \"Classifier prediction\"\n",
    "napari.run()"
   ]
  },
  {
   "cell_type": "code",
   "execution_count": 17,
   "metadata": {},
   "outputs": [
    {
     "name": "stdout",
     "output_type": "stream",
     "text": [
      "Created folder:  /Volumes/imaging.data/Max/REF52/DLC_1/FRET/FRET_7/ratio/mask\n",
      "Created folder:  /Volumes/imaging.data/Max/REF52/DLC_1/FRET/FRET_7/ratio/stim_mask\n",
      "Created folder:  /Volumes/imaging.data/Max/REF52/DLC_1/FRET/FRET_7/ratio/ratio\n"
     ]
    }
   ],
   "source": [
    "## Create the required folders \n",
    "def create_folders(path, directory):\n",
    "    for i in directory:\n",
    "        iDir=os.path.join(path, i)\n",
    "        try:\n",
    "            if not os.path.exists(iDir):\n",
    "                os.makedirs(iDir)\n",
    "                print('Created folder: ', iDir)\n",
    "            else: \n",
    "                print('Folder: ', iDir, 'already exists')\n",
    "        except OSError:\n",
    "            print ('Error: Creating directory. ' + iDir)\n",
    "required_folders = ['mask', 'stim_mask', 'ratio'] #leave this\n",
    "\n",
    "create_folders(output_folder_segmentation,required_folders)  #leave this"
   ]
  },
  {
   "cell_type": "markdown",
   "metadata": {},
   "source": [
    "### Run the segmentation on all images"
   ]
  },
  {
   "cell_type": "code",
   "execution_count": 18,
   "metadata": {},
   "outputs": [
    {
     "name": "stdout",
     "output_type": "stream",
     "text": [
      "WARNING:tensorflow:5 out of the last 317 calls to <function Model.make_predict_function.<locals>.predict_function at 0x1a5b837b90> triggered tf.function retracing. Tracing is expensive and the excessive number of tracings could be due to (1) creating @tf.function repeatedly in a loop, (2) passing tensors with different shapes, (3) passing Python objects instead of tensors. For (1), please define your @tf.function outside of the loop. For (2), @tf.function has experimental_relax_shapes=True option that relaxes argument shapes that can avoid unnecessary retracing. For (3), please refer to https://www.tensorflow.org/guide/function#controlling_retracing and https://www.tensorflow.org/api_docs/python/tf/function for  more details.\n",
      "WARNING:tensorflow:6 out of the last 318 calls to <function Model.make_predict_function.<locals>.predict_function at 0x1a6f1e9e60> triggered tf.function retracing. Tracing is expensive and the excessive number of tracings could be due to (1) creating @tf.function repeatedly in a loop, (2) passing tensors with different shapes, (3) passing Python objects instead of tensors. For (1), please define your @tf.function outside of the loop. For (2), @tf.function has experimental_relax_shapes=True option that relaxes argument shapes that can avoid unnecessary retracing. For (3), please refer to https://www.tensorflow.org/guide/function#controlling_retracing and https://www.tensorflow.org/api_docs/python/tf/function for  more details.\n",
      "/Volumes/imaging.data/Max/REF52/DLC_1/FRET/FRET_7/1B2_100_w26TIRFFRETacceptor.TIF\n",
      "frame_segmented\n"
     ]
    },
    {
     "data": {
      "image/png": "[encoded data removed]",
      "text/plain": [
       "<Figure size 432x288 with 1 Axes>"
      ]
     },
     "metadata": {
      "needs_background": "light"
     },
     "output_type": "display_data"
    },
    {
     "name": "stdout",
     "output_type": "stream",
     "text": [
      "frame_mask\n"
     ]
    },
    {
     "data": {
      "image/png": "[encoded data removed]",
      "text/plain": [
       "<Figure size 432x288 with 1 Axes>"
      ]
     },
     "metadata": {
      "needs_background": "light"
     },
     "output_type": "display_data"
    },
    {
     "name": "stdout",
     "output_type": "stream",
     "text": [
      "masked_frame\n"
     ]
    },
    {
     "data": {
      "image/png": "[encoded data removed]",
      "text/plain": [
       "<Figure size 432x288 with 1 Axes>"
      ]
     },
     "metadata": {
      "needs_background": "light"
     },
     "output_type": "display_data"
    },
    {
     "name": "stdout",
     "output_type": "stream",
     "text": [
      "FRET_corrected\n"
     ]
    },
    {
     "data": {
      "image/png": "[encoded data removed]",
      "text/plain": [
       "<Figure size 432x288 with 1 Axes>"
      ]
     },
     "metadata": {
      "needs_background": "light"
     },
     "output_type": "display_data"
    },
    {
     "name": "stdout",
     "output_type": "stream",
     "text": [
      "CFP_corrected\n"
     ]
    },
    {
     "data": {
      "image/png": "[encoded data removed]",
      "text/plain": [
       "<Figure size 432x288 with 1 Axes>"
      ]
     },
     "metadata": {
      "needs_background": "light"
     },
     "output_type": "display_data"
    },
    {
     "name": "stdout",
     "output_type": "stream",
     "text": [
      "processing file  0  of  256\n",
      "FRETratio\n"
     ]
    },
    {
     "name": "stderr",
     "output_type": "stream",
     "text": [
      "/Users/max/opt/anaconda3/lib/python3.7/site-packages/ipykernel_launcher.py:58: RuntimeWarning: invalid value encountered in true_divide\n"
     ]
    },
    {
     "data": {
      "image/png": "[encoded data removed]",
      "text/plain": [
       "<Figure size 432x288 with 1 Axes>"
      ]
     },
     "metadata": {
      "needs_background": "light"
     },
     "output_type": "display_data"
    },
    {
     "name": "stdout",
     "output_type": "stream",
     "text": [
      "/Volumes/imaging.data/Max/REF52/DLC_1/FRET/FRET_7/1B2_101_w26TIRFFRETacceptor.TIF\n",
      "processing file  1  of  256\n"
     ]
    },
    {
     "name": "stderr",
     "output_type": "stream",
     "text": [
      "/Users/max/opt/anaconda3/lib/python3.7/site-packages/ipykernel_launcher.py:58: RuntimeWarning: invalid value encountered in true_divide\n"
     ]
    },
    {
     "name": "stdout",
     "output_type": "stream",
     "text": [
      "/Volumes/imaging.data/Max/REF52/DLC_1/FRET/FRET_7/1B2_102_w26TIRFFRETacceptor.TIF\n",
      "processing file  2  of  256\n"
     ]
    },
    {
     "name": "stderr",
     "output_type": "stream",
     "text": [
      "/Users/max/opt/anaconda3/lib/python3.7/site-packages/ipykernel_launcher.py:58: RuntimeWarning: invalid value encountered in true_divide\n"
     ]
    },
    {
     "name": "stdout",
     "output_type": "stream",
     "text": [
      "/Volumes/imaging.data/Max/REF52/DLC_1/FRET/FRET_7/1B2_103_w26TIRFFRETacceptor.TIF\n",
      "processing file  3  of  256\n"
     ]
    },
    {
     "name": "stderr",
     "output_type": "stream",
     "text": [
      "/Users/max/opt/anaconda3/lib/python3.7/site-packages/ipykernel_launcher.py:58: RuntimeWarning: invalid value encountered in true_divide\n"
     ]
    },
    {
     "name": "stdout",
     "output_type": "stream",
     "text": [
      "/Volumes/imaging.data/Max/REF52/DLC_1/FRET/FRET_7/1B2_104_w26TIRFFRETacceptor.TIF\n",
      "processing file  4  of  256\n"
     ]
    },
    {
     "name": "stderr",
     "output_type": "stream",
     "text": [
      "/Users/max/opt/anaconda3/lib/python3.7/site-packages/ipykernel_launcher.py:58: RuntimeWarning: divide by zero encountered in true_divide\n",
      "/Users/max/opt/anaconda3/lib/python3.7/site-packages/ipykernel_launcher.py:58: RuntimeWarning: invalid value encountered in true_divide\n"
     ]
    },
    {
     "name": "stdout",
     "output_type": "stream",
     "text": [
      "/Volumes/imaging.data/Max/REF52/DLC_1/FRET/FRET_7/1B2_105_w26TIRFFRETacceptor.TIF\n",
      "processing file  5  of  256\n"
     ]
    },
    {
     "name": "stderr",
     "output_type": "stream",
     "text": [
      "/Users/max/opt/anaconda3/lib/python3.7/site-packages/ipykernel_launcher.py:58: RuntimeWarning: invalid value encountered in true_divide\n"
     ]
    },
    {
     "name": "stdout",
     "output_type": "stream",
     "text": [
      "/Volumes/imaging.data/Max/REF52/DLC_1/FRET/FRET_7/1B2_106_w26TIRFFRETacceptor.TIF\n",
      "processing file  6  of  256\n"
     ]
    },
    {
     "name": "stderr",
     "output_type": "stream",
     "text": [
      "/Users/max/opt/anaconda3/lib/python3.7/site-packages/ipykernel_launcher.py:58: RuntimeWarning: divide by zero encountered in true_divide\n",
      "/Users/max/opt/anaconda3/lib/python3.7/site-packages/ipykernel_launcher.py:58: RuntimeWarning: invalid value encountered in true_divide\n"
     ]
    },
    {
     "name": "stdout",
     "output_type": "stream",
     "text": [
      "/Volumes/imaging.data/Max/REF52/DLC_1/FRET/FRET_7/1B2_107_w26TIRFFRETacceptor.TIF\n",
      "processing file  7  of  256\n"
     ]
    },
    {
     "name": "stderr",
     "output_type": "stream",
     "text": [
      "/Users/max/opt/anaconda3/lib/python3.7/site-packages/ipykernel_launcher.py:58: RuntimeWarning: divide by zero encountered in true_divide\n",
      "/Users/max/opt/anaconda3/lib/python3.7/site-packages/ipykernel_launcher.py:58: RuntimeWarning: invalid value encountered in true_divide\n"
     ]
    },
    {
     "name": "stdout",
     "output_type": "stream",
     "text": [
      "/Volumes/imaging.data/Max/REF52/DLC_1/FRET/FRET_7/1B2_108_w26TIRFFRETacceptor.TIF\n",
      "processing file  8  of  256\n"
     ]
    },
    {
     "name": "stderr",
     "output_type": "stream",
     "text": [
      "/Users/max/opt/anaconda3/lib/python3.7/site-packages/ipykernel_launcher.py:58: RuntimeWarning: invalid value encountered in true_divide\n"
     ]
    },
    {
     "name": "stdout",
     "output_type": "stream",
     "text": [
      "/Volumes/imaging.data/Max/REF52/DLC_1/FRET/FRET_7/1B2_109_w26TIRFFRETacceptor.TIF\n",
      "processing file  9  of  256\n"
     ]
    },
    {
     "name": "stderr",
     "output_type": "stream",
     "text": [
      "/Users/max/opt/anaconda3/lib/python3.7/site-packages/ipykernel_launcher.py:58: RuntimeWarning: divide by zero encountered in true_divide\n",
      "/Users/max/opt/anaconda3/lib/python3.7/site-packages/ipykernel_launcher.py:58: RuntimeWarning: invalid value encountered in true_divide\n"
     ]
    },
    {
     "name": "stdout",
     "output_type": "stream",
     "text": [
      "/Volumes/imaging.data/Max/REF52/DLC_1/FRET/FRET_7/1B2_10_w26TIRFFRETacceptor.TIF\n",
      "processing file  10  of  256\n"
     ]
    },
    {
     "name": "stderr",
     "output_type": "stream",
     "text": [
      "/Users/max/opt/anaconda3/lib/python3.7/site-packages/ipykernel_launcher.py:58: RuntimeWarning: divide by zero encountered in true_divide\n",
      "/Users/max/opt/anaconda3/lib/python3.7/site-packages/ipykernel_launcher.py:58: RuntimeWarning: invalid value encountered in true_divide\n"
     ]
    },
    {
     "name": "stdout",
     "output_type": "stream",
     "text": [
      "/Volumes/imaging.data/Max/REF52/DLC_1/FRET/FRET_7/1B2_110_w26TIRFFRETacceptor.TIF\n",
      "processing file  11  of  256\n"
     ]
    },
    {
     "name": "stderr",
     "output_type": "stream",
     "text": [
      "/Users/max/opt/anaconda3/lib/python3.7/site-packages/ipykernel_launcher.py:58: RuntimeWarning: divide by zero encountered in true_divide\n",
      "/Users/max/opt/anaconda3/lib/python3.7/site-packages/ipykernel_launcher.py:58: RuntimeWarning: invalid value encountered in true_divide\n"
     ]
    },
    {
     "name": "stdout",
     "output_type": "stream",
     "text": [
      "/Volumes/imaging.data/Max/REF52/DLC_1/FRET/FRET_7/1B2_111_w26TIRFFRETacceptor.TIF\n",
      "processing file  12  of  256\n"
     ]
    },
    {
     "name": "stderr",
     "output_type": "stream",
     "text": [
      "/Users/max/opt/anaconda3/lib/python3.7/site-packages/ipykernel_launcher.py:58: RuntimeWarning: invalid value encountered in true_divide\n"
     ]
    },
    {
     "name": "stdout",
     "output_type": "stream",
     "text": [
      "/Volumes/imaging.data/Max/REF52/DLC_1/FRET/FRET_7/1B2_112_w26TIRFFRETacceptor.TIF\n",
      "processing file  13  of  256\n"
     ]
    },
    {
     "name": "stderr",
     "output_type": "stream",
     "text": [
      "/Users/max/opt/anaconda3/lib/python3.7/site-packages/ipykernel_launcher.py:58: RuntimeWarning: divide by zero encountered in true_divide\n",
      "/Users/max/opt/anaconda3/lib/python3.7/site-packages/ipykernel_launcher.py:58: RuntimeWarning: invalid value encountered in true_divide\n"
     ]
    },
    {
     "name": "stdout",
     "output_type": "stream",
     "text": [
      "/Volumes/imaging.data/Max/REF52/DLC_1/FRET/FRET_7/1B2_113_w26TIRFFRETacceptor.TIF\n",
      "processing file  14  of  256\n"
     ]
    },
    {
     "name": "stderr",
     "output_type": "stream",
     "text": [
      "/Users/max/opt/anaconda3/lib/python3.7/site-packages/ipykernel_launcher.py:58: RuntimeWarning: invalid value encountered in true_divide\n"
     ]
    },
    {
     "name": "stdout",
     "output_type": "stream",
     "text": [
      "/Volumes/imaging.data/Max/REF52/DLC_1/FRET/FRET_7/1B2_114_w26TIRFFRETacceptor.TIF\n",
      "processing file  15  of  256\n"
     ]
    },
    {
     "name": "stderr",
     "output_type": "stream",
     "text": [
      "/Users/max/opt/anaconda3/lib/python3.7/site-packages/ipykernel_launcher.py:58: RuntimeWarning: invalid value encountered in true_divide\n"
     ]
    },
    {
     "name": "stdout",
     "output_type": "stream",
     "text": [
      "/Volumes/imaging.data/Max/REF52/DLC_1/FRET/FRET_7/1B2_115_w26TIRFFRETacceptor.TIF\n",
      "processing file  16  of  256\n"
     ]
    },
    {
     "name": "stderr",
     "output_type": "stream",
     "text": [
      "/Users/max/opt/anaconda3/lib/python3.7/site-packages/ipykernel_launcher.py:58: RuntimeWarning: invalid value encountered in true_divide\n"
     ]
    },
    {
     "name": "stdout",
     "output_type": "stream",
     "text": [
      "/Volumes/imaging.data/Max/REF52/DLC_1/FRET/FRET_7/1B2_116_w26TIRFFRETacceptor.TIF\n",
      "processing file  17  of  256\n"
     ]
    },
    {
     "name": "stderr",
     "output_type": "stream",
     "text": [
      "/Users/max/opt/anaconda3/lib/python3.7/site-packages/ipykernel_launcher.py:58: RuntimeWarning: divide by zero encountered in true_divide\n",
      "/Users/max/opt/anaconda3/lib/python3.7/site-packages/ipykernel_launcher.py:58: RuntimeWarning: invalid value encountered in true_divide\n"
     ]
    },
    {
     "name": "stdout",
     "output_type": "stream",
     "text": [
      "/Volumes/imaging.data/Max/REF52/DLC_1/FRET/FRET_7/1B2_117_w26TIRFFRETacceptor.TIF\n",
      "processing file  18  of  256\n"
     ]
    },
    {
     "name": "stderr",
     "output_type": "stream",
     "text": [
      "/Users/max/opt/anaconda3/lib/python3.7/site-packages/ipykernel_launcher.py:58: RuntimeWarning: invalid value encountered in true_divide\n"
     ]
    },
    {
     "name": "stdout",
     "output_type": "stream",
     "text": [
      "/Volumes/imaging.data/Max/REF52/DLC_1/FRET/FRET_7/1B2_118_w26TIRFFRETacceptor.TIF\n",
      "processing file  19  of  256\n"
     ]
    },
    {
     "name": "stderr",
     "output_type": "stream",
     "text": [
      "/Users/max/opt/anaconda3/lib/python3.7/site-packages/ipykernel_launcher.py:58: RuntimeWarning: invalid value encountered in true_divide\n"
     ]
    },
    {
     "name": "stdout",
     "output_type": "stream",
     "text": [
      "/Volumes/imaging.data/Max/REF52/DLC_1/FRET/FRET_7/1B2_119_w26TIRFFRETacceptor.TIF\n",
      "processing file  20  of  256\n"
     ]
    },
    {
     "name": "stderr",
     "output_type": "stream",
     "text": [
      "/Users/max/opt/anaconda3/lib/python3.7/site-packages/ipykernel_launcher.py:58: RuntimeWarning: invalid value encountered in true_divide\n"
     ]
    },
    {
     "name": "stdout",
     "output_type": "stream",
     "text": [
      "/Volumes/imaging.data/Max/REF52/DLC_1/FRET/FRET_7/1B2_11_w26TIRFFRETacceptor.TIF\n",
      "processing file  21  of  256\n"
     ]
    },
    {
     "name": "stderr",
     "output_type": "stream",
     "text": [
      "/Users/max/opt/anaconda3/lib/python3.7/site-packages/ipykernel_launcher.py:58: RuntimeWarning: divide by zero encountered in true_divide\n",
      "/Users/max/opt/anaconda3/lib/python3.7/site-packages/ipykernel_launcher.py:58: RuntimeWarning: invalid value encountered in true_divide\n"
     ]
    },
    {
     "name": "stdout",
     "output_type": "stream",
     "text": [
      "/Volumes/imaging.data/Max/REF52/DLC_1/FRET/FRET_7/1B2_120_w26TIRFFRETacceptor.TIF\n",
      "processing file  22  of  256\n"
     ]
    },
    {
     "name": "stderr",
     "output_type": "stream",
     "text": [
      "/Users/max/opt/anaconda3/lib/python3.7/site-packages/ipykernel_launcher.py:58: RuntimeWarning: invalid value encountered in true_divide\n"
     ]
    },
    {
     "name": "stdout",
     "output_type": "stream",
     "text": [
      "/Volumes/imaging.data/Max/REF52/DLC_1/FRET/FRET_7/1B2_121_w26TIRFFRETacceptor.TIF\n",
      "processing file  23  of  256\n"
     ]
    },
    {
     "name": "stderr",
     "output_type": "stream",
     "text": [
      "/Users/max/opt/anaconda3/lib/python3.7/site-packages/ipykernel_launcher.py:58: RuntimeWarning: divide by zero encountered in true_divide\n",
      "/Users/max/opt/anaconda3/lib/python3.7/site-packages/ipykernel_launcher.py:58: RuntimeWarning: invalid value encountered in true_divide\n"
     ]
    },
    {
     "name": "stdout",
     "output_type": "stream",
     "text": [
      "/Volumes/imaging.data/Max/REF52/DLC_1/FRET/FRET_7/1B2_122_w26TIRFFRETacceptor.TIF\n",
      "processing file  24  of  256\n"
     ]
    },
    {
     "name": "stderr",
     "output_type": "stream",
     "text": [
      "/Users/max/opt/anaconda3/lib/python3.7/site-packages/ipykernel_launcher.py:58: RuntimeWarning: invalid value encountered in true_divide\n"
     ]
    },
    {
     "name": "stdout",
     "output_type": "stream",
     "text": [
      "/Volumes/imaging.data/Max/REF52/DLC_1/FRET/FRET_7/1B2_123_w26TIRFFRETacceptor.TIF\n",
      "processing file  25  of  256\n"
     ]
    },
    {
     "name": "stderr",
     "output_type": "stream",
     "text": [
      "/Users/max/opt/anaconda3/lib/python3.7/site-packages/ipykernel_launcher.py:58: RuntimeWarning: invalid value encountered in true_divide\n"
     ]
    },
    {
     "name": "stdout",
     "output_type": "stream",
     "text": [
      "/Volumes/imaging.data/Max/REF52/DLC_1/FRET/FRET_7/1B2_124_w26TIRFFRETacceptor.TIF\n",
      "processing file  26  of  256\n"
     ]
    },
    {
     "name": "stderr",
     "output_type": "stream",
     "text": [
      "/Users/max/opt/anaconda3/lib/python3.7/site-packages/ipykernel_launcher.py:58: RuntimeWarning: divide by zero encountered in true_divide\n",
      "/Users/max/opt/anaconda3/lib/python3.7/site-packages/ipykernel_launcher.py:58: RuntimeWarning: invalid value encountered in true_divide\n"
     ]
    },
    {
     "name": "stdout",
     "output_type": "stream",
     "text": [
      "/Volumes/imaging.data/Max/REF52/DLC_1/FRET/FRET_7/1B2_125_w26TIRFFRETacceptor.TIF\n",
      "processing file  27  of  256\n"
     ]
    },
    {
     "name": "stderr",
     "output_type": "stream",
     "text": [
      "/Users/max/opt/anaconda3/lib/python3.7/site-packages/ipykernel_launcher.py:58: RuntimeWarning: divide by zero encountered in true_divide\n",
      "/Users/max/opt/anaconda3/lib/python3.7/site-packages/ipykernel_launcher.py:58: RuntimeWarning: invalid value encountered in true_divide\n"
     ]
    },
    {
     "name": "stdout",
     "output_type": "stream",
     "text": [
      "/Volumes/imaging.data/Max/REF52/DLC_1/FRET/FRET_7/1B2_126_w26TIRFFRETacceptor.TIF\n",
      "processing file  28  of  256\n"
     ]
    },
    {
     "name": "stderr",
     "output_type": "stream",
     "text": [
      "/Users/max/opt/anaconda3/lib/python3.7/site-packages/ipykernel_launcher.py:58: RuntimeWarning: invalid value encountered in true_divide\n"
     ]
    },
    {
     "name": "stdout",
     "output_type": "stream",
     "text": [
      "/Volumes/imaging.data/Max/REF52/DLC_1/FRET/FRET_7/1B2_127_w26TIRFFRETacceptor.TIF\n",
      "processing file  29  of  256\n"
     ]
    },
    {
     "name": "stderr",
     "output_type": "stream",
     "text": [
      "/Users/max/opt/anaconda3/lib/python3.7/site-packages/ipykernel_launcher.py:58: RuntimeWarning: invalid value encountered in true_divide\n"
     ]
    },
    {
     "name": "stdout",
     "output_type": "stream",
     "text": [
      "/Volumes/imaging.data/Max/REF52/DLC_1/FRET/FRET_7/1B2_128_w26TIRFFRETacceptor.TIF\n",
      "processing file  30  of  256\n"
     ]
    },
    {
     "name": "stderr",
     "output_type": "stream",
     "text": [
      "/Users/max/opt/anaconda3/lib/python3.7/site-packages/ipykernel_launcher.py:58: RuntimeWarning: divide by zero encountered in true_divide\n",
      "/Users/max/opt/anaconda3/lib/python3.7/site-packages/ipykernel_launcher.py:58: RuntimeWarning: invalid value encountered in true_divide\n"
     ]
    },
    {
     "name": "stdout",
     "output_type": "stream",
     "text": [
      "/Volumes/imaging.data/Max/REF52/DLC_1/FRET/FRET_7/1B2_129_w26TIRFFRETacceptor.TIF\n",
      "processing file  31  of  256\n"
     ]
    },
    {
     "name": "stderr",
     "output_type": "stream",
     "text": [
      "/Users/max/opt/anaconda3/lib/python3.7/site-packages/ipykernel_launcher.py:58: RuntimeWarning: divide by zero encountered in true_divide\n",
      "/Users/max/opt/anaconda3/lib/python3.7/site-packages/ipykernel_launcher.py:58: RuntimeWarning: invalid value encountered in true_divide\n"
     ]
    },
    {
     "name": "stdout",
     "output_type": "stream",
     "text": [
      "/Volumes/imaging.data/Max/REF52/DLC_1/FRET/FRET_7/1B2_12_w26TIRFFRETacceptor.TIF\n",
      "processing file  32  of  256\n"
     ]
    },
    {
     "name": "stderr",
     "output_type": "stream",
     "text": [
      "/Users/max/opt/anaconda3/lib/python3.7/site-packages/ipykernel_launcher.py:58: RuntimeWarning: invalid value encountered in true_divide\n"
     ]
    },
    {
     "name": "stdout",
     "output_type": "stream",
     "text": [
      "/Volumes/imaging.data/Max/REF52/DLC_1/FRET/FRET_7/1B2_130_w26TIRFFRETacceptor.TIF\n",
      "processing file  33  of  256\n"
     ]
    },
    {
     "name": "stderr",
     "output_type": "stream",
     "text": [
      "/Users/max/opt/anaconda3/lib/python3.7/site-packages/ipykernel_launcher.py:58: RuntimeWarning: divide by zero encountered in true_divide\n",
      "/Users/max/opt/anaconda3/lib/python3.7/site-packages/ipykernel_launcher.py:58: RuntimeWarning: invalid value encountered in true_divide\n"
     ]
    },
    {
     "name": "stdout",
     "output_type": "stream",
     "text": [
      "/Volumes/imaging.data/Max/REF52/DLC_1/FRET/FRET_7/1B2_131_w26TIRFFRETacceptor.TIF\n",
      "processing file  34  of  256\n"
     ]
    },
    {
     "name": "stderr",
     "output_type": "stream",
     "text": [
      "/Users/max/opt/anaconda3/lib/python3.7/site-packages/ipykernel_launcher.py:58: RuntimeWarning: invalid value encountered in true_divide\n"
     ]
    },
    {
     "name": "stdout",
     "output_type": "stream",
     "text": [
      "/Volumes/imaging.data/Max/REF52/DLC_1/FRET/FRET_7/1B2_132_w26TIRFFRETacceptor.TIF\n",
      "processing file  35  of  256\n"
     ]
    },
    {
     "name": "stderr",
     "output_type": "stream",
     "text": [
      "/Users/max/opt/anaconda3/lib/python3.7/site-packages/ipykernel_launcher.py:58: RuntimeWarning: divide by zero encountered in true_divide\n",
      "/Users/max/opt/anaconda3/lib/python3.7/site-packages/ipykernel_launcher.py:58: RuntimeWarning: invalid value encountered in true_divide\n"
     ]
    },
    {
     "name": "stdout",
     "output_type": "stream",
     "text": [
      "/Volumes/imaging.data/Max/REF52/DLC_1/FRET/FRET_7/1B2_133_w26TIRFFRETacceptor.TIF\n",
      "processing file  36  of  256\n"
     ]
    },
    {
     "name": "stderr",
     "output_type": "stream",
     "text": [
      "/Users/max/opt/anaconda3/lib/python3.7/site-packages/ipykernel_launcher.py:58: RuntimeWarning: invalid value encountered in true_divide\n"
     ]
    },
    {
     "name": "stdout",
     "output_type": "stream",
     "text": [
      "/Volumes/imaging.data/Max/REF52/DLC_1/FRET/FRET_7/1B2_13_w26TIRFFRETacceptor.TIF\n",
      "processing file  37  of  256\n"
     ]
    },
    {
     "name": "stderr",
     "output_type": "stream",
     "text": [
      "/Users/max/opt/anaconda3/lib/python3.7/site-packages/ipykernel_launcher.py:58: RuntimeWarning: invalid value encountered in true_divide\n"
     ]
    },
    {
     "name": "stdout",
     "output_type": "stream",
     "text": [
      "/Volumes/imaging.data/Max/REF52/DLC_1/FRET/FRET_7/1B2_14_w26TIRFFRETacceptor.TIF\n",
      "processing file  38  of  256\n"
     ]
    },
    {
     "name": "stderr",
     "output_type": "stream",
     "text": [
      "/Users/max/opt/anaconda3/lib/python3.7/site-packages/ipykernel_launcher.py:58: RuntimeWarning: invalid value encountered in true_divide\n"
     ]
    },
    {
     "name": "stdout",
     "output_type": "stream",
     "text": [
      "/Volumes/imaging.data/Max/REF52/DLC_1/FRET/FRET_7/1B2_15_w26TIRFFRETacceptor.TIF\n",
      "processing file  39  of  256\n"
     ]
    },
    {
     "name": "stderr",
     "output_type": "stream",
     "text": [
      "/Users/max/opt/anaconda3/lib/python3.7/site-packages/ipykernel_launcher.py:58: RuntimeWarning: invalid value encountered in true_divide\n"
     ]
    },
    {
     "name": "stdout",
     "output_type": "stream",
     "text": [
      "/Volumes/imaging.data/Max/REF52/DLC_1/FRET/FRET_7/1B2_16_w26TIRFFRETacceptor.TIF\n",
      "processing file  40  of  256\n"
     ]
    },
    {
     "name": "stderr",
     "output_type": "stream",
     "text": [
      "/Users/max/opt/anaconda3/lib/python3.7/site-packages/ipykernel_launcher.py:58: RuntimeWarning: invalid value encountered in true_divide\n"
     ]
    },
    {
     "name": "stdout",
     "output_type": "stream",
     "text": [
      "/Volumes/imaging.data/Max/REF52/DLC_1/FRET/FRET_7/1B2_17_w26TIRFFRETacceptor.TIF\n",
      "processing file  41  of  256\n"
     ]
    },
    {
     "name": "stderr",
     "output_type": "stream",
     "text": [
      "/Users/max/opt/anaconda3/lib/python3.7/site-packages/ipykernel_launcher.py:58: RuntimeWarning: divide by zero encountered in true_divide\n",
      "/Users/max/opt/anaconda3/lib/python3.7/site-packages/ipykernel_launcher.py:58: RuntimeWarning: invalid value encountered in true_divide\n"
     ]
    },
    {
     "name": "stdout",
     "output_type": "stream",
     "text": [
      "/Volumes/imaging.data/Max/REF52/DLC_1/FRET/FRET_7/1B2_18_w26TIRFFRETacceptor.TIF\n",
      "processing file  42  of  256\n"
     ]
    },
    {
     "name": "stderr",
     "output_type": "stream",
     "text": [
      "/Users/max/opt/anaconda3/lib/python3.7/site-packages/ipykernel_launcher.py:58: RuntimeWarning: invalid value encountered in true_divide\n"
     ]
    },
    {
     "name": "stdout",
     "output_type": "stream",
     "text": [
      "/Volumes/imaging.data/Max/REF52/DLC_1/FRET/FRET_7/1B2_19_w26TIRFFRETacceptor.TIF\n",
      "processing file  43  of  256\n"
     ]
    },
    {
     "name": "stderr",
     "output_type": "stream",
     "text": [
      "/Users/max/opt/anaconda3/lib/python3.7/site-packages/ipykernel_launcher.py:58: RuntimeWarning: divide by zero encountered in true_divide\n",
      "/Users/max/opt/anaconda3/lib/python3.7/site-packages/ipykernel_launcher.py:58: RuntimeWarning: invalid value encountered in true_divide\n"
     ]
    },
    {
     "name": "stdout",
     "output_type": "stream",
     "text": [
      "/Volumes/imaging.data/Max/REF52/DLC_1/FRET/FRET_7/1B2_1_w26TIRFFRETacceptor.TIF\n",
      "processing file  44  of  256\n"
     ]
    },
    {
     "name": "stderr",
     "output_type": "stream",
     "text": [
      "/Users/max/opt/anaconda3/lib/python3.7/site-packages/ipykernel_launcher.py:58: RuntimeWarning: invalid value encountered in true_divide\n"
     ]
    },
    {
     "name": "stdout",
     "output_type": "stream",
     "text": [
      "/Volumes/imaging.data/Max/REF52/DLC_1/FRET/FRET_7/1B2_20_w26TIRFFRETacceptor.TIF\n",
      "processing file  45  of  256\n"
     ]
    },
    {
     "name": "stderr",
     "output_type": "stream",
     "text": [
      "/Users/max/opt/anaconda3/lib/python3.7/site-packages/ipykernel_launcher.py:58: RuntimeWarning: invalid value encountered in true_divide\n"
     ]
    },
    {
     "name": "stdout",
     "output_type": "stream",
     "text": [
      "/Volumes/imaging.data/Max/REF52/DLC_1/FRET/FRET_7/1B2_21_w26TIRFFRETacceptor.TIF\n",
      "processing file  46  of  256\n"
     ]
    },
    {
     "name": "stderr",
     "output_type": "stream",
     "text": [
      "/Users/max/opt/anaconda3/lib/python3.7/site-packages/ipykernel_launcher.py:58: RuntimeWarning: divide by zero encountered in true_divide\n",
      "/Users/max/opt/anaconda3/lib/python3.7/site-packages/ipykernel_launcher.py:58: RuntimeWarning: invalid value encountered in true_divide\n"
     ]
    },
    {
     "name": "stdout",
     "output_type": "stream",
     "text": [
      "/Volumes/imaging.data/Max/REF52/DLC_1/FRET/FRET_7/1B2_22_w26TIRFFRETacceptor.TIF\n",
      "processing file  47  of  256\n"
     ]
    },
    {
     "name": "stderr",
     "output_type": "stream",
     "text": [
      "/Users/max/opt/anaconda3/lib/python3.7/site-packages/ipykernel_launcher.py:58: RuntimeWarning: divide by zero encountered in true_divide\n",
      "/Users/max/opt/anaconda3/lib/python3.7/site-packages/ipykernel_launcher.py:58: RuntimeWarning: invalid value encountered in true_divide\n"
     ]
    },
    {
     "name": "stdout",
     "output_type": "stream",
     "text": [
      "/Volumes/imaging.data/Max/REF52/DLC_1/FRET/FRET_7/1B2_23_w26TIRFFRETacceptor.TIF\n",
      "processing file  48  of  256\n"
     ]
    },
    {
     "name": "stderr",
     "output_type": "stream",
     "text": [
      "/Users/max/opt/anaconda3/lib/python3.7/site-packages/ipykernel_launcher.py:58: RuntimeWarning: divide by zero encountered in true_divide\n",
      "/Users/max/opt/anaconda3/lib/python3.7/site-packages/ipykernel_launcher.py:58: RuntimeWarning: invalid value encountered in true_divide\n"
     ]
    },
    {
     "name": "stdout",
     "output_type": "stream",
     "text": [
      "/Volumes/imaging.data/Max/REF52/DLC_1/FRET/FRET_7/1B2_24_w26TIRFFRETacceptor.TIF\n",
      "processing file  49  of  256\n"
     ]
    },
    {
     "name": "stderr",
     "output_type": "stream",
     "text": [
      "/Users/max/opt/anaconda3/lib/python3.7/site-packages/ipykernel_launcher.py:58: RuntimeWarning: divide by zero encountered in true_divide\n",
      "/Users/max/opt/anaconda3/lib/python3.7/site-packages/ipykernel_launcher.py:58: RuntimeWarning: invalid value encountered in true_divide\n"
     ]
    },
    {
     "name": "stdout",
     "output_type": "stream",
     "text": [
      "/Volumes/imaging.data/Max/REF52/DLC_1/FRET/FRET_7/1B2_25_w26TIRFFRETacceptor.TIF\n",
      "processing file  50  of  256\n"
     ]
    },
    {
     "name": "stderr",
     "output_type": "stream",
     "text": [
      "/Users/max/opt/anaconda3/lib/python3.7/site-packages/ipykernel_launcher.py:58: RuntimeWarning: invalid value encountered in true_divide\n"
     ]
    },
    {
     "name": "stdout",
     "output_type": "stream",
     "text": [
      "/Volumes/imaging.data/Max/REF52/DLC_1/FRET/FRET_7/1B2_26_w26TIRFFRETacceptor.TIF\n",
      "processing file  51  of  256\n"
     ]
    },
    {
     "name": "stderr",
     "output_type": "stream",
     "text": [
      "/Users/max/opt/anaconda3/lib/python3.7/site-packages/ipykernel_launcher.py:58: RuntimeWarning: invalid value encountered in true_divide\n"
     ]
    },
    {
     "name": "stdout",
     "output_type": "stream",
     "text": [
      "/Volumes/imaging.data/Max/REF52/DLC_1/FRET/FRET_7/1B2_27_w26TIRFFRETacceptor.TIF\n",
      "processing file  52  of  256\n"
     ]
    },
    {
     "name": "stderr",
     "output_type": "stream",
     "text": [
      "/Users/max/opt/anaconda3/lib/python3.7/site-packages/ipykernel_launcher.py:58: RuntimeWarning: invalid value encountered in true_divide\n"
     ]
    },
    {
     "name": "stdout",
     "output_type": "stream",
     "text": [
      "/Volumes/imaging.data/Max/REF52/DLC_1/FRET/FRET_7/1B2_28_w26TIRFFRETacceptor.TIF\n",
      "processing file  53  of  256\n"
     ]
    },
    {
     "name": "stderr",
     "output_type": "stream",
     "text": [
      "/Users/max/opt/anaconda3/lib/python3.7/site-packages/ipykernel_launcher.py:58: RuntimeWarning: invalid value encountered in true_divide\n"
     ]
    },
    {
     "name": "stdout",
     "output_type": "stream",
     "text": [
      "/Volumes/imaging.data/Max/REF52/DLC_1/FRET/FRET_7/1B2_29_w26TIRFFRETacceptor.TIF\n",
      "processing file  54  of  256\n"
     ]
    },
    {
     "name": "stderr",
     "output_type": "stream",
     "text": [
      "/Users/max/opt/anaconda3/lib/python3.7/site-packages/ipykernel_launcher.py:58: RuntimeWarning: divide by zero encountered in true_divide\n",
      "/Users/max/opt/anaconda3/lib/python3.7/site-packages/ipykernel_launcher.py:58: RuntimeWarning: invalid value encountered in true_divide\n"
     ]
    },
    {
     "name": "stdout",
     "output_type": "stream",
     "text": [
      "/Volumes/imaging.data/Max/REF52/DLC_1/FRET/FRET_7/1B2_2_w26TIRFFRETacceptor.TIF\n",
      "processing file  55  of  256\n"
     ]
    },
    {
     "name": "stderr",
     "output_type": "stream",
     "text": [
      "/Users/max/opt/anaconda3/lib/python3.7/site-packages/ipykernel_launcher.py:58: RuntimeWarning: divide by zero encountered in true_divide\n",
      "/Users/max/opt/anaconda3/lib/python3.7/site-packages/ipykernel_launcher.py:58: RuntimeWarning: invalid value encountered in true_divide\n"
     ]
    },
    {
     "name": "stdout",
     "output_type": "stream",
     "text": [
      "/Volumes/imaging.data/Max/REF52/DLC_1/FRET/FRET_7/1B2_30_w26TIRFFRETacceptor.TIF\n",
      "processing file  56  of  256\n"
     ]
    },
    {
     "name": "stderr",
     "output_type": "stream",
     "text": [
      "/Users/max/opt/anaconda3/lib/python3.7/site-packages/ipykernel_launcher.py:58: RuntimeWarning: invalid value encountered in true_divide\n"
     ]
    },
    {
     "name": "stdout",
     "output_type": "stream",
     "text": [
      "/Volumes/imaging.data/Max/REF52/DLC_1/FRET/FRET_7/1B2_31_w26TIRFFRETacceptor.TIF\n",
      "processing file  57  of  256\n"
     ]
    },
    {
     "name": "stderr",
     "output_type": "stream",
     "text": [
      "/Users/max/opt/anaconda3/lib/python3.7/site-packages/ipykernel_launcher.py:58: RuntimeWarning: invalid value encountered in true_divide\n"
     ]
    },
    {
     "name": "stdout",
     "output_type": "stream",
     "text": [
      "/Volumes/imaging.data/Max/REF52/DLC_1/FRET/FRET_7/1B2_32_w26TIRFFRETacceptor.TIF\n",
      "processing file  58  of  256\n"
     ]
    },
    {
     "name": "stderr",
     "output_type": "stream",
     "text": [
      "/Users/max/opt/anaconda3/lib/python3.7/site-packages/ipykernel_launcher.py:58: RuntimeWarning: divide by zero encountered in true_divide\n",
      "/Users/max/opt/anaconda3/lib/python3.7/site-packages/ipykernel_launcher.py:58: RuntimeWarning: invalid value encountered in true_divide\n"
     ]
    },
    {
     "name": "stdout",
     "output_type": "stream",
     "text": [
      "/Volumes/imaging.data/Max/REF52/DLC_1/FRET/FRET_7/1B2_33_w26TIRFFRETacceptor.TIF\n",
      "processing file  59  of  256\n"
     ]
    },
    {
     "name": "stderr",
     "output_type": "stream",
     "text": [
      "/Users/max/opt/anaconda3/lib/python3.7/site-packages/ipykernel_launcher.py:58: RuntimeWarning: invalid value encountered in true_divide\n"
     ]
    },
    {
     "name": "stdout",
     "output_type": "stream",
     "text": [
      "/Volumes/imaging.data/Max/REF52/DLC_1/FRET/FRET_7/1B2_34_w26TIRFFRETacceptor.TIF\n",
      "processing file  60  of  256\n"
     ]
    },
    {
     "name": "stderr",
     "output_type": "stream",
     "text": [
      "/Users/max/opt/anaconda3/lib/python3.7/site-packages/ipykernel_launcher.py:58: RuntimeWarning: divide by zero encountered in true_divide\n",
      "/Users/max/opt/anaconda3/lib/python3.7/site-packages/ipykernel_launcher.py:58: RuntimeWarning: invalid value encountered in true_divide\n"
     ]
    },
    {
     "name": "stdout",
     "output_type": "stream",
     "text": [
      "/Volumes/imaging.data/Max/REF52/DLC_1/FRET/FRET_7/1B2_35_w26TIRFFRETacceptor.TIF\n",
      "processing file  61  of  256\n"
     ]
    },
    {
     "name": "stderr",
     "output_type": "stream",
     "text": [
      "/Users/max/opt/anaconda3/lib/python3.7/site-packages/ipykernel_launcher.py:58: RuntimeWarning: divide by zero encountered in true_divide\n",
      "/Users/max/opt/anaconda3/lib/python3.7/site-packages/ipykernel_launcher.py:58: RuntimeWarning: invalid value encountered in true_divide\n"
     ]
    },
    {
     "name": "stdout",
     "output_type": "stream",
     "text": [
      "/Volumes/imaging.data/Max/REF52/DLC_1/FRET/FRET_7/1B2_36_w26TIRFFRETacceptor.TIF\n",
      "processing file  62  of  256\n"
     ]
    },
    {
     "name": "stderr",
     "output_type": "stream",
     "text": [
      "/Users/max/opt/anaconda3/lib/python3.7/site-packages/ipykernel_launcher.py:58: RuntimeWarning: divide by zero encountered in true_divide\n",
      "/Users/max/opt/anaconda3/lib/python3.7/site-packages/ipykernel_launcher.py:58: RuntimeWarning: invalid value encountered in true_divide\n"
     ]
    },
    {
     "name": "stdout",
     "output_type": "stream",
     "text": [
      "/Volumes/imaging.data/Max/REF52/DLC_1/FRET/FRET_7/1B2_37_w26TIRFFRETacceptor.TIF\n",
      "processing file  63  of  256\n"
     ]
    },
    {
     "name": "stderr",
     "output_type": "stream",
     "text": [
      "/Users/max/opt/anaconda3/lib/python3.7/site-packages/ipykernel_launcher.py:58: RuntimeWarning: invalid value encountered in true_divide\n"
     ]
    },
    {
     "name": "stdout",
     "output_type": "stream",
     "text": [
      "/Volumes/imaging.data/Max/REF52/DLC_1/FRET/FRET_7/1B2_38_w26TIRFFRETacceptor.TIF\n",
      "processing file  64  of  256\n"
     ]
    },
    {
     "name": "stderr",
     "output_type": "stream",
     "text": [
      "/Users/max/opt/anaconda3/lib/python3.7/site-packages/ipykernel_launcher.py:58: RuntimeWarning: divide by zero encountered in true_divide\n",
      "/Users/max/opt/anaconda3/lib/python3.7/site-packages/ipykernel_launcher.py:58: RuntimeWarning: invalid value encountered in true_divide\n"
     ]
    },
    {
     "name": "stdout",
     "output_type": "stream",
     "text": [
      "/Volumes/imaging.data/Max/REF52/DLC_1/FRET/FRET_7/1B2_39_w26TIRFFRETacceptor.TIF\n",
      "processing file  65  of  256\n"
     ]
    },
    {
     "name": "stderr",
     "output_type": "stream",
     "text": [
      "/Users/max/opt/anaconda3/lib/python3.7/site-packages/ipykernel_launcher.py:58: RuntimeWarning: divide by zero encountered in true_divide\n",
      "/Users/max/opt/anaconda3/lib/python3.7/site-packages/ipykernel_launcher.py:58: RuntimeWarning: invalid value encountered in true_divide\n"
     ]
    },
    {
     "name": "stdout",
     "output_type": "stream",
     "text": [
      "/Volumes/imaging.data/Max/REF52/DLC_1/FRET/FRET_7/1B2_3_w26TIRFFRETacceptor.TIF\n",
      "processing file  66  of  256\n"
     ]
    },
    {
     "name": "stderr",
     "output_type": "stream",
     "text": [
      "/Users/max/opt/anaconda3/lib/python3.7/site-packages/ipykernel_launcher.py:58: RuntimeWarning: invalid value encountered in true_divide\n"
     ]
    },
    {
     "name": "stdout",
     "output_type": "stream",
     "text": [
      "/Volumes/imaging.data/Max/REF52/DLC_1/FRET/FRET_7/1B2_40_w26TIRFFRETacceptor.TIF\n",
      "processing file  67  of  256\n"
     ]
    },
    {
     "name": "stderr",
     "output_type": "stream",
     "text": [
      "/Users/max/opt/anaconda3/lib/python3.7/site-packages/ipykernel_launcher.py:58: RuntimeWarning: invalid value encountered in true_divide\n"
     ]
    },
    {
     "name": "stdout",
     "output_type": "stream",
     "text": [
      "/Volumes/imaging.data/Max/REF52/DLC_1/FRET/FRET_7/1B2_41_w26TIRFFRETacceptor.TIF\n",
      "processing file  68  of  256\n"
     ]
    },
    {
     "name": "stderr",
     "output_type": "stream",
     "text": [
      "/Users/max/opt/anaconda3/lib/python3.7/site-packages/ipykernel_launcher.py:58: RuntimeWarning: divide by zero encountered in true_divide\n",
      "/Users/max/opt/anaconda3/lib/python3.7/site-packages/ipykernel_launcher.py:58: RuntimeWarning: invalid value encountered in true_divide\n"
     ]
    },
    {
     "name": "stdout",
     "output_type": "stream",
     "text": [
      "/Volumes/imaging.data/Max/REF52/DLC_1/FRET/FRET_7/1B2_42_w26TIRFFRETacceptor.TIF\n",
      "processing file  69  of  256\n"
     ]
    },
    {
     "name": "stderr",
     "output_type": "stream",
     "text": [
      "/Users/max/opt/anaconda3/lib/python3.7/site-packages/ipykernel_launcher.py:58: RuntimeWarning: divide by zero encountered in true_divide\n",
      "/Users/max/opt/anaconda3/lib/python3.7/site-packages/ipykernel_launcher.py:58: RuntimeWarning: invalid value encountered in true_divide\n"
     ]
    },
    {
     "name": "stdout",
     "output_type": "stream",
     "text": [
      "/Volumes/imaging.data/Max/REF52/DLC_1/FRET/FRET_7/1B2_43_w26TIRFFRETacceptor.TIF\n",
      "processing file  70  of  256\n"
     ]
    },
    {
     "name": "stderr",
     "output_type": "stream",
     "text": [
      "/Users/max/opt/anaconda3/lib/python3.7/site-packages/ipykernel_launcher.py:58: RuntimeWarning: invalid value encountered in true_divide\n"
     ]
    },
    {
     "name": "stdout",
     "output_type": "stream",
     "text": [
      "/Volumes/imaging.data/Max/REF52/DLC_1/FRET/FRET_7/1B2_44_w26TIRFFRETacceptor.TIF\n",
      "processing file  71  of  256\n"
     ]
    },
    {
     "name": "stderr",
     "output_type": "stream",
     "text": [
      "/Users/max/opt/anaconda3/lib/python3.7/site-packages/ipykernel_launcher.py:58: RuntimeWarning: divide by zero encountered in true_divide\n",
      "/Users/max/opt/anaconda3/lib/python3.7/site-packages/ipykernel_launcher.py:58: RuntimeWarning: invalid value encountered in true_divide\n"
     ]
    },
    {
     "name": "stdout",
     "output_type": "stream",
     "text": [
      "/Volumes/imaging.data/Max/REF52/DLC_1/FRET/FRET_7/1B2_45_w26TIRFFRETacceptor.TIF\n",
      "processing file  72  of  256\n"
     ]
    },
    {
     "name": "stderr",
     "output_type": "stream",
     "text": [
      "/Users/max/opt/anaconda3/lib/python3.7/site-packages/ipykernel_launcher.py:58: RuntimeWarning: invalid value encountered in true_divide\n"
     ]
    },
    {
     "name": "stdout",
     "output_type": "stream",
     "text": [
      "/Volumes/imaging.data/Max/REF52/DLC_1/FRET/FRET_7/1B2_46_w26TIRFFRETacceptor.TIF\n",
      "processing file  73  of  256\n"
     ]
    },
    {
     "name": "stderr",
     "output_type": "stream",
     "text": [
      "/Users/max/opt/anaconda3/lib/python3.7/site-packages/ipykernel_launcher.py:58: RuntimeWarning: invalid value encountered in true_divide\n"
     ]
    },
    {
     "name": "stdout",
     "output_type": "stream",
     "text": [
      "/Volumes/imaging.data/Max/REF52/DLC_1/FRET/FRET_7/1B2_47_w26TIRFFRETacceptor.TIF\n",
      "processing file  74  of  256\n"
     ]
    },
    {
     "name": "stderr",
     "output_type": "stream",
     "text": [
      "/Users/max/opt/anaconda3/lib/python3.7/site-packages/ipykernel_launcher.py:58: RuntimeWarning: invalid value encountered in true_divide\n"
     ]
    },
    {
     "name": "stdout",
     "output_type": "stream",
     "text": [
      "/Volumes/imaging.data/Max/REF52/DLC_1/FRET/FRET_7/1B2_48_w26TIRFFRETacceptor.TIF\n",
      "processing file  75  of  256\n"
     ]
    },
    {
     "name": "stderr",
     "output_type": "stream",
     "text": [
      "/Users/max/opt/anaconda3/lib/python3.7/site-packages/ipykernel_launcher.py:58: RuntimeWarning: invalid value encountered in true_divide\n"
     ]
    },
    {
     "name": "stdout",
     "output_type": "stream",
     "text": [
      "/Volumes/imaging.data/Max/REF52/DLC_1/FRET/FRET_7/1B2_49_w26TIRFFRETacceptor.TIF\n",
      "processing file  76  of  256\n"
     ]
    },
    {
     "name": "stderr",
     "output_type": "stream",
     "text": [
      "/Users/max/opt/anaconda3/lib/python3.7/site-packages/ipykernel_launcher.py:58: RuntimeWarning: divide by zero encountered in true_divide\n",
      "/Users/max/opt/anaconda3/lib/python3.7/site-packages/ipykernel_launcher.py:58: RuntimeWarning: invalid value encountered in true_divide\n"
     ]
    },
    {
     "name": "stdout",
     "output_type": "stream",
     "text": [
      "/Volumes/imaging.data/Max/REF52/DLC_1/FRET/FRET_7/1B2_4_w26TIRFFRETacceptor.TIF\n",
      "processing file  77  of  256\n"
     ]
    },
    {
     "name": "stderr",
     "output_type": "stream",
     "text": [
      "/Users/max/opt/anaconda3/lib/python3.7/site-packages/ipykernel_launcher.py:58: RuntimeWarning: divide by zero encountered in true_divide\n",
      "/Users/max/opt/anaconda3/lib/python3.7/site-packages/ipykernel_launcher.py:58: RuntimeWarning: invalid value encountered in true_divide\n"
     ]
    },
    {
     "name": "stdout",
     "output_type": "stream",
     "text": [
      "/Volumes/imaging.data/Max/REF52/DLC_1/FRET/FRET_7/1B2_50_w26TIRFFRETacceptor.TIF\n",
      "processing file  78  of  256\n"
     ]
    },
    {
     "name": "stderr",
     "output_type": "stream",
     "text": [
      "/Users/max/opt/anaconda3/lib/python3.7/site-packages/ipykernel_launcher.py:58: RuntimeWarning: invalid value encountered in true_divide\n"
     ]
    },
    {
     "name": "stdout",
     "output_type": "stream",
     "text": [
      "/Volumes/imaging.data/Max/REF52/DLC_1/FRET/FRET_7/1B2_51_w26TIRFFRETacceptor.TIF\n",
      "processing file  79  of  256\n"
     ]
    },
    {
     "name": "stderr",
     "output_type": "stream",
     "text": [
      "/Users/max/opt/anaconda3/lib/python3.7/site-packages/ipykernel_launcher.py:58: RuntimeWarning: invalid value encountered in true_divide\n"
     ]
    },
    {
     "name": "stdout",
     "output_type": "stream",
     "text": [
      "/Volumes/imaging.data/Max/REF52/DLC_1/FRET/FRET_7/1B2_52_w26TIRFFRETacceptor.TIF\n",
      "processing file  80  of  256\n"
     ]
    },
    {
     "name": "stderr",
     "output_type": "stream",
     "text": [
      "/Users/max/opt/anaconda3/lib/python3.7/site-packages/ipykernel_launcher.py:58: RuntimeWarning: invalid value encountered in true_divide\n"
     ]
    },
    {
     "name": "stdout",
     "output_type": "stream",
     "text": [
      "/Volumes/imaging.data/Max/REF52/DLC_1/FRET/FRET_7/1B2_53_w26TIRFFRETacceptor.TIF\n",
      "processing file  81  of  256\n"
     ]
    },
    {
     "name": "stderr",
     "output_type": "stream",
     "text": [
      "/Users/max/opt/anaconda3/lib/python3.7/site-packages/ipykernel_launcher.py:58: RuntimeWarning: invalid value encountered in true_divide\n"
     ]
    },
    {
     "name": "stdout",
     "output_type": "stream",
     "text": [
      "/Volumes/imaging.data/Max/REF52/DLC_1/FRET/FRET_7/1B2_54_w26TIRFFRETacceptor.TIF\n",
      "processing file  82  of  256\n"
     ]
    },
    {
     "name": "stderr",
     "output_type": "stream",
     "text": [
      "/Users/max/opt/anaconda3/lib/python3.7/site-packages/ipykernel_launcher.py:58: RuntimeWarning: invalid value encountered in true_divide\n"
     ]
    },
    {
     "name": "stdout",
     "output_type": "stream",
     "text": [
      "/Volumes/imaging.data/Max/REF52/DLC_1/FRET/FRET_7/1B2_55_w26TIRFFRETacceptor.TIF\n",
      "processing file  83  of  256\n"
     ]
    },
    {
     "name": "stderr",
     "output_type": "stream",
     "text": [
      "/Users/max/opt/anaconda3/lib/python3.7/site-packages/ipykernel_launcher.py:58: RuntimeWarning: divide by zero encountered in true_divide\n",
      "/Users/max/opt/anaconda3/lib/python3.7/site-packages/ipykernel_launcher.py:58: RuntimeWarning: invalid value encountered in true_divide\n"
     ]
    },
    {
     "name": "stdout",
     "output_type": "stream",
     "text": [
      "/Volumes/imaging.data/Max/REF52/DLC_1/FRET/FRET_7/1B2_56_w26TIRFFRETacceptor.TIF\n",
      "processing file  84  of  256\n"
     ]
    },
    {
     "name": "stderr",
     "output_type": "stream",
     "text": [
      "/Users/max/opt/anaconda3/lib/python3.7/site-packages/ipykernel_launcher.py:58: RuntimeWarning: invalid value encountered in true_divide\n"
     ]
    },
    {
     "name": "stdout",
     "output_type": "stream",
     "text": [
      "/Volumes/imaging.data/Max/REF52/DLC_1/FRET/FRET_7/1B2_57_w26TIRFFRETacceptor.TIF\n",
      "processing file  85  of  256\n"
     ]
    },
    {
     "name": "stderr",
     "output_type": "stream",
     "text": [
      "/Users/max/opt/anaconda3/lib/python3.7/site-packages/ipykernel_launcher.py:58: RuntimeWarning: divide by zero encountered in true_divide\n",
      "/Users/max/opt/anaconda3/lib/python3.7/site-packages/ipykernel_launcher.py:58: RuntimeWarning: invalid value encountered in true_divide\n"
     ]
    },
    {
     "name": "stdout",
     "output_type": "stream",
     "text": [
      "/Volumes/imaging.data/Max/REF52/DLC_1/FRET/FRET_7/1B2_58_w26TIRFFRETacceptor.TIF\n",
      "processing file  86  of  256\n"
     ]
    },
    {
     "name": "stderr",
     "output_type": "stream",
     "text": [
      "/Users/max/opt/anaconda3/lib/python3.7/site-packages/ipykernel_launcher.py:58: RuntimeWarning: invalid value encountered in true_divide\n"
     ]
    },
    {
     "name": "stdout",
     "output_type": "stream",
     "text": [
      "/Volumes/imaging.data/Max/REF52/DLC_1/FRET/FRET_7/1B2_59_w26TIRFFRETacceptor.TIF\n",
      "processing file  87  of  256\n"
     ]
    },
    {
     "name": "stderr",
     "output_type": "stream",
     "text": [
      "/Users/max/opt/anaconda3/lib/python3.7/site-packages/ipykernel_launcher.py:58: RuntimeWarning: invalid value encountered in true_divide\n"
     ]
    },
    {
     "name": "stdout",
     "output_type": "stream",
     "text": [
      "/Volumes/imaging.data/Max/REF52/DLC_1/FRET/FRET_7/1B2_5_w26TIRFFRETacceptor.TIF\n",
      "processing file  88  of  256\n"
     ]
    },
    {
     "name": "stderr",
     "output_type": "stream",
     "text": [
      "/Users/max/opt/anaconda3/lib/python3.7/site-packages/ipykernel_launcher.py:58: RuntimeWarning: invalid value encountered in true_divide\n"
     ]
    },
    {
     "name": "stdout",
     "output_type": "stream",
     "text": [
      "/Volumes/imaging.data/Max/REF52/DLC_1/FRET/FRET_7/1B2_60_w26TIRFFRETacceptor.TIF\n",
      "processing file  89  of  256\n"
     ]
    },
    {
     "name": "stderr",
     "output_type": "stream",
     "text": [
      "/Users/max/opt/anaconda3/lib/python3.7/site-packages/ipykernel_launcher.py:58: RuntimeWarning: invalid value encountered in true_divide\n"
     ]
    },
    {
     "name": "stdout",
     "output_type": "stream",
     "text": [
      "/Volumes/imaging.data/Max/REF52/DLC_1/FRET/FRET_7/1B2_61_w26TIRFFRETacceptor.TIF\n",
      "processing file  90  of  256\n"
     ]
    },
    {
     "name": "stderr",
     "output_type": "stream",
     "text": [
      "/Users/max/opt/anaconda3/lib/python3.7/site-packages/ipykernel_launcher.py:58: RuntimeWarning: invalid value encountered in true_divide\n"
     ]
    },
    {
     "name": "stdout",
     "output_type": "stream",
     "text": [
      "/Volumes/imaging.data/Max/REF52/DLC_1/FRET/FRET_7/1B2_62_w26TIRFFRETacceptor.TIF\n",
      "processing file  91  of  256\n"
     ]
    },
    {
     "name": "stderr",
     "output_type": "stream",
     "text": [
      "/Users/max/opt/anaconda3/lib/python3.7/site-packages/ipykernel_launcher.py:58: RuntimeWarning: divide by zero encountered in true_divide\n",
      "/Users/max/opt/anaconda3/lib/python3.7/site-packages/ipykernel_launcher.py:58: RuntimeWarning: invalid value encountered in true_divide\n"
     ]
    },
    {
     "name": "stdout",
     "output_type": "stream",
     "text": [
      "/Volumes/imaging.data/Max/REF52/DLC_1/FRET/FRET_7/1B2_63_w26TIRFFRETacceptor.TIF\n",
      "processing file  92  of  256\n"
     ]
    },
    {
     "name": "stderr",
     "output_type": "stream",
     "text": [
      "/Users/max/opt/anaconda3/lib/python3.7/site-packages/ipykernel_launcher.py:58: RuntimeWarning: invalid value encountered in true_divide\n"
     ]
    },
    {
     "name": "stdout",
     "output_type": "stream",
     "text": [
      "/Volumes/imaging.data/Max/REF52/DLC_1/FRET/FRET_7/1B2_64_w26TIRFFRETacceptor.TIF\n",
      "processing file  93  of  256\n"
     ]
    },
    {
     "name": "stderr",
     "output_type": "stream",
     "text": [
      "/Users/max/opt/anaconda3/lib/python3.7/site-packages/ipykernel_launcher.py:58: RuntimeWarning: invalid value encountered in true_divide\n"
     ]
    },
    {
     "name": "stdout",
     "output_type": "stream",
     "text": [
      "/Volumes/imaging.data/Max/REF52/DLC_1/FRET/FRET_7/1B2_65_w26TIRFFRETacceptor.TIF\n",
      "processing file  94  of  256\n"
     ]
    },
    {
     "name": "stderr",
     "output_type": "stream",
     "text": [
      "/Users/max/opt/anaconda3/lib/python3.7/site-packages/ipykernel_launcher.py:58: RuntimeWarning: invalid value encountered in true_divide\n"
     ]
    },
    {
     "name": "stdout",
     "output_type": "stream",
     "text": [
      "/Volumes/imaging.data/Max/REF52/DLC_1/FRET/FRET_7/1B2_66_w26TIRFFRETacceptor.TIF\n",
      "processing file  95  of  256\n"
     ]
    },
    {
     "name": "stderr",
     "output_type": "stream",
     "text": [
      "/Users/max/opt/anaconda3/lib/python3.7/site-packages/ipykernel_launcher.py:58: RuntimeWarning: divide by zero encountered in true_divide\n",
      "/Users/max/opt/anaconda3/lib/python3.7/site-packages/ipykernel_launcher.py:58: RuntimeWarning: invalid value encountered in true_divide\n"
     ]
    },
    {
     "name": "stdout",
     "output_type": "stream",
     "text": [
      "/Volumes/imaging.data/Max/REF52/DLC_1/FRET/FRET_7/1B2_67_w26TIRFFRETacceptor.TIF\n",
      "processing file  96  of  256\n"
     ]
    },
    {
     "name": "stderr",
     "output_type": "stream",
     "text": [
      "/Users/max/opt/anaconda3/lib/python3.7/site-packages/ipykernel_launcher.py:58: RuntimeWarning: invalid value encountered in true_divide\n"
     ]
    },
    {
     "name": "stdout",
     "output_type": "stream",
     "text": [
      "/Volumes/imaging.data/Max/REF52/DLC_1/FRET/FRET_7/1B2_68_w26TIRFFRETacceptor.TIF\n",
      "processing file  97  of  256\n"
     ]
    },
    {
     "name": "stderr",
     "output_type": "stream",
     "text": [
      "/Users/max/opt/anaconda3/lib/python3.7/site-packages/ipykernel_launcher.py:58: RuntimeWarning: invalid value encountered in true_divide\n"
     ]
    },
    {
     "name": "stdout",
     "output_type": "stream",
     "text": [
      "/Volumes/imaging.data/Max/REF52/DLC_1/FRET/FRET_7/1B2_69_w26TIRFFRETacceptor.TIF\n",
      "processing file  98  of  256\n"
     ]
    },
    {
     "name": "stderr",
     "output_type": "stream",
     "text": [
      "/Users/max/opt/anaconda3/lib/python3.7/site-packages/ipykernel_launcher.py:58: RuntimeWarning: divide by zero encountered in true_divide\n",
      "/Users/max/opt/anaconda3/lib/python3.7/site-packages/ipykernel_launcher.py:58: RuntimeWarning: invalid value encountered in true_divide\n"
     ]
    },
    {
     "name": "stdout",
     "output_type": "stream",
     "text": [
      "/Volumes/imaging.data/Max/REF52/DLC_1/FRET/FRET_7/1B2_6_w26TIRFFRETacceptor.TIF\n",
      "processing file  99  of  256\n"
     ]
    },
    {
     "name": "stderr",
     "output_type": "stream",
     "text": [
      "/Users/max/opt/anaconda3/lib/python3.7/site-packages/ipykernel_launcher.py:58: RuntimeWarning: divide by zero encountered in true_divide\n",
      "/Users/max/opt/anaconda3/lib/python3.7/site-packages/ipykernel_launcher.py:58: RuntimeWarning: invalid value encountered in true_divide\n"
     ]
    },
    {
     "name": "stdout",
     "output_type": "stream",
     "text": [
      "/Volumes/imaging.data/Max/REF52/DLC_1/FRET/FRET_7/1B2_70_w26TIRFFRETacceptor.TIF\n",
      "processing file  100  of  256\n"
     ]
    },
    {
     "name": "stderr",
     "output_type": "stream",
     "text": [
      "/Users/max/opt/anaconda3/lib/python3.7/site-packages/ipykernel_launcher.py:58: RuntimeWarning: divide by zero encountered in true_divide\n",
      "/Users/max/opt/anaconda3/lib/python3.7/site-packages/ipykernel_launcher.py:58: RuntimeWarning: invalid value encountered in true_divide\n"
     ]
    },
    {
     "name": "stdout",
     "output_type": "stream",
     "text": [
      "/Volumes/imaging.data/Max/REF52/DLC_1/FRET/FRET_7/1B2_71_w26TIRFFRETacceptor.TIF\n",
      "processing file  101  of  256\n"
     ]
    },
    {
     "name": "stderr",
     "output_type": "stream",
     "text": [
      "/Users/max/opt/anaconda3/lib/python3.7/site-packages/ipykernel_launcher.py:58: RuntimeWarning: divide by zero encountered in true_divide\n",
      "/Users/max/opt/anaconda3/lib/python3.7/site-packages/ipykernel_launcher.py:58: RuntimeWarning: invalid value encountered in true_divide\n"
     ]
    },
    {
     "name": "stdout",
     "output_type": "stream",
     "text": [
      "/Volumes/imaging.data/Max/REF52/DLC_1/FRET/FRET_7/1B2_72_w26TIRFFRETacceptor.TIF\n",
      "processing file  102  of  256\n"
     ]
    },
    {
     "name": "stderr",
     "output_type": "stream",
     "text": [
      "/Users/max/opt/anaconda3/lib/python3.7/site-packages/ipykernel_launcher.py:58: RuntimeWarning: divide by zero encountered in true_divide\n",
      "/Users/max/opt/anaconda3/lib/python3.7/site-packages/ipykernel_launcher.py:58: RuntimeWarning: invalid value encountered in true_divide\n"
     ]
    },
    {
     "name": "stdout",
     "output_type": "stream",
     "text": [
      "/Volumes/imaging.data/Max/REF52/DLC_1/FRET/FRET_7/1B2_73_w26TIRFFRETacceptor.TIF\n",
      "processing file  103  of  256\n"
     ]
    },
    {
     "name": "stderr",
     "output_type": "stream",
     "text": [
      "/Users/max/opt/anaconda3/lib/python3.7/site-packages/ipykernel_launcher.py:58: RuntimeWarning: invalid value encountered in true_divide\n"
     ]
    },
    {
     "name": "stdout",
     "output_type": "stream",
     "text": [
      "/Volumes/imaging.data/Max/REF52/DLC_1/FRET/FRET_7/1B2_74_w26TIRFFRETacceptor.TIF\n",
      "processing file  104  of  256\n"
     ]
    },
    {
     "name": "stderr",
     "output_type": "stream",
     "text": [
      "/Users/max/opt/anaconda3/lib/python3.7/site-packages/ipykernel_launcher.py:58: RuntimeWarning: invalid value encountered in true_divide\n"
     ]
    },
    {
     "name": "stdout",
     "output_type": "stream",
     "text": [
      "/Volumes/imaging.data/Max/REF52/DLC_1/FRET/FRET_7/1B2_75_w26TIRFFRETacceptor.TIF\n",
      "processing file  105  of  256\n"
     ]
    },
    {
     "name": "stderr",
     "output_type": "stream",
     "text": [
      "/Users/max/opt/anaconda3/lib/python3.7/site-packages/ipykernel_launcher.py:58: RuntimeWarning: invalid value encountered in true_divide\n"
     ]
    },
    {
     "name": "stdout",
     "output_type": "stream",
     "text": [
      "/Volumes/imaging.data/Max/REF52/DLC_1/FRET/FRET_7/1B2_76_w26TIRFFRETacceptor.TIF\n",
      "processing file  106  of  256\n"
     ]
    },
    {
     "name": "stderr",
     "output_type": "stream",
     "text": [
      "/Users/max/opt/anaconda3/lib/python3.7/site-packages/ipykernel_launcher.py:58: RuntimeWarning: invalid value encountered in true_divide\n"
     ]
    },
    {
     "name": "stdout",
     "output_type": "stream",
     "text": [
      "/Volumes/imaging.data/Max/REF52/DLC_1/FRET/FRET_7/1B2_77_w26TIRFFRETacceptor.TIF\n",
      "processing file  107  of  256\n"
     ]
    },
    {
     "name": "stderr",
     "output_type": "stream",
     "text": [
      "/Users/max/opt/anaconda3/lib/python3.7/site-packages/ipykernel_launcher.py:58: RuntimeWarning: divide by zero encountered in true_divide\n",
      "/Users/max/opt/anaconda3/lib/python3.7/site-packages/ipykernel_launcher.py:58: RuntimeWarning: invalid value encountered in true_divide\n"
     ]
    },
    {
     "name": "stdout",
     "output_type": "stream",
     "text": [
      "/Volumes/imaging.data/Max/REF52/DLC_1/FRET/FRET_7/1B2_78_w26TIRFFRETacceptor.TIF\n",
      "processing file  108  of  256\n"
     ]
    },
    {
     "name": "stderr",
     "output_type": "stream",
     "text": [
      "/Users/max/opt/anaconda3/lib/python3.7/site-packages/ipykernel_launcher.py:58: RuntimeWarning: invalid value encountered in true_divide\n"
     ]
    },
    {
     "name": "stdout",
     "output_type": "stream",
     "text": [
      "/Volumes/imaging.data/Max/REF52/DLC_1/FRET/FRET_7/1B2_79_w26TIRFFRETacceptor.TIF\n",
      "processing file  109  of  256\n"
     ]
    },
    {
     "name": "stderr",
     "output_type": "stream",
     "text": [
      "/Users/max/opt/anaconda3/lib/python3.7/site-packages/ipykernel_launcher.py:58: RuntimeWarning: invalid value encountered in true_divide\n"
     ]
    },
    {
     "name": "stdout",
     "output_type": "stream",
     "text": [
      "/Volumes/imaging.data/Max/REF52/DLC_1/FRET/FRET_7/1B2_7_w26TIRFFRETacceptor.TIF\n",
      "processing file  110  of  256\n"
     ]
    },
    {
     "name": "stderr",
     "output_type": "stream",
     "text": [
      "/Users/max/opt/anaconda3/lib/python3.7/site-packages/ipykernel_launcher.py:58: RuntimeWarning: invalid value encountered in true_divide\n"
     ]
    },
    {
     "name": "stdout",
     "output_type": "stream",
     "text": [
      "/Volumes/imaging.data/Max/REF52/DLC_1/FRET/FRET_7/1B2_80_w26TIRFFRETacceptor.TIF\n",
      "processing file  111  of  256\n"
     ]
    },
    {
     "name": "stderr",
     "output_type": "stream",
     "text": [
      "/Users/max/opt/anaconda3/lib/python3.7/site-packages/ipykernel_launcher.py:58: RuntimeWarning: divide by zero encountered in true_divide\n",
      "/Users/max/opt/anaconda3/lib/python3.7/site-packages/ipykernel_launcher.py:58: RuntimeWarning: invalid value encountered in true_divide\n"
     ]
    },
    {
     "name": "stdout",
     "output_type": "stream",
     "text": [
      "/Volumes/imaging.data/Max/REF52/DLC_1/FRET/FRET_7/1B2_81_w26TIRFFRETacceptor.TIF\n",
      "processing file  112  of  256\n"
     ]
    },
    {
     "name": "stderr",
     "output_type": "stream",
     "text": [
      "/Users/max/opt/anaconda3/lib/python3.7/site-packages/ipykernel_launcher.py:58: RuntimeWarning: invalid value encountered in true_divide\n"
     ]
    },
    {
     "name": "stdout",
     "output_type": "stream",
     "text": [
      "/Volumes/imaging.data/Max/REF52/DLC_1/FRET/FRET_7/1B2_82_w26TIRFFRETacceptor.TIF\n",
      "processing file  113  of  256\n"
     ]
    },
    {
     "name": "stderr",
     "output_type": "stream",
     "text": [
      "/Users/max/opt/anaconda3/lib/python3.7/site-packages/ipykernel_launcher.py:58: RuntimeWarning: invalid value encountered in true_divide\n"
     ]
    },
    {
     "name": "stdout",
     "output_type": "stream",
     "text": [
      "/Volumes/imaging.data/Max/REF52/DLC_1/FRET/FRET_7/1B2_83_w26TIRFFRETacceptor.TIF\n",
      "processing file  114  of  256\n"
     ]
    },
    {
     "name": "stderr",
     "output_type": "stream",
     "text": [
      "/Users/max/opt/anaconda3/lib/python3.7/site-packages/ipykernel_launcher.py:58: RuntimeWarning: invalid value encountered in true_divide\n"
     ]
    },
    {
     "name": "stdout",
     "output_type": "stream",
     "text": [
      "/Volumes/imaging.data/Max/REF52/DLC_1/FRET/FRET_7/1B2_84_w26TIRFFRETacceptor.TIF\n",
      "processing file  115  of  256\n"
     ]
    },
    {
     "name": "stderr",
     "output_type": "stream",
     "text": [
      "/Users/max/opt/anaconda3/lib/python3.7/site-packages/ipykernel_launcher.py:58: RuntimeWarning: divide by zero encountered in true_divide\n",
      "/Users/max/opt/anaconda3/lib/python3.7/site-packages/ipykernel_launcher.py:58: RuntimeWarning: invalid value encountered in true_divide\n"
     ]
    },
    {
     "name": "stdout",
     "output_type": "stream",
     "text": [
      "/Volumes/imaging.data/Max/REF52/DLC_1/FRET/FRET_7/1B2_85_w26TIRFFRETacceptor.TIF\n",
      "processing file  116  of  256\n"
     ]
    },
    {
     "name": "stderr",
     "output_type": "stream",
     "text": [
      "/Users/max/opt/anaconda3/lib/python3.7/site-packages/ipykernel_launcher.py:58: RuntimeWarning: divide by zero encountered in true_divide\n",
      "/Users/max/opt/anaconda3/lib/python3.7/site-packages/ipykernel_launcher.py:58: RuntimeWarning: invalid value encountered in true_divide\n"
     ]
    },
    {
     "name": "stdout",
     "output_type": "stream",
     "text": [
      "/Volumes/imaging.data/Max/REF52/DLC_1/FRET/FRET_7/1B2_86_w26TIRFFRETacceptor.TIF\n",
      "processing file  117  of  256\n"
     ]
    },
    {
     "name": "stderr",
     "output_type": "stream",
     "text": [
      "/Users/max/opt/anaconda3/lib/python3.7/site-packages/ipykernel_launcher.py:58: RuntimeWarning: divide by zero encountered in true_divide\n",
      "/Users/max/opt/anaconda3/lib/python3.7/site-packages/ipykernel_launcher.py:58: RuntimeWarning: invalid value encountered in true_divide\n"
     ]
    },
    {
     "name": "stdout",
     "output_type": "stream",
     "text": [
      "/Volumes/imaging.data/Max/REF52/DLC_1/FRET/FRET_7/1B2_87_w26TIRFFRETacceptor.TIF\n",
      "processing file  118  of  256\n"
     ]
    },
    {
     "name": "stderr",
     "output_type": "stream",
     "text": [
      "/Users/max/opt/anaconda3/lib/python3.7/site-packages/ipykernel_launcher.py:58: RuntimeWarning: invalid value encountered in true_divide\n"
     ]
    },
    {
     "name": "stdout",
     "output_type": "stream",
     "text": [
      "/Volumes/imaging.data/Max/REF52/DLC_1/FRET/FRET_7/1B2_88_w26TIRFFRETacceptor.TIF\n",
      "processing file  119  of  256\n"
     ]
    },
    {
     "name": "stderr",
     "output_type": "stream",
     "text": [
      "/Users/max/opt/anaconda3/lib/python3.7/site-packages/ipykernel_launcher.py:58: RuntimeWarning: divide by zero encountered in true_divide\n",
      "/Users/max/opt/anaconda3/lib/python3.7/site-packages/ipykernel_launcher.py:58: RuntimeWarning: invalid value encountered in true_divide\n"
     ]
    },
    {
     "name": "stdout",
     "output_type": "stream",
     "text": [
      "/Volumes/imaging.data/Max/REF52/DLC_1/FRET/FRET_7/1B2_89_w26TIRFFRETacceptor.TIF\n",
      "processing file  120  of  256\n"
     ]
    },
    {
     "name": "stderr",
     "output_type": "stream",
     "text": [
      "/Users/max/opt/anaconda3/lib/python3.7/site-packages/ipykernel_launcher.py:58: RuntimeWarning: invalid value encountered in true_divide\n"
     ]
    },
    {
     "name": "stdout",
     "output_type": "stream",
     "text": [
      "/Volumes/imaging.data/Max/REF52/DLC_1/FRET/FRET_7/1B2_8_w26TIRFFRETacceptor.TIF\n",
      "processing file  121  of  256\n"
     ]
    },
    {
     "name": "stderr",
     "output_type": "stream",
     "text": [
      "/Users/max/opt/anaconda3/lib/python3.7/site-packages/ipykernel_launcher.py:58: RuntimeWarning: divide by zero encountered in true_divide\n",
      "/Users/max/opt/anaconda3/lib/python3.7/site-packages/ipykernel_launcher.py:58: RuntimeWarning: invalid value encountered in true_divide\n"
     ]
    },
    {
     "name": "stdout",
     "output_type": "stream",
     "text": [
      "/Volumes/imaging.data/Max/REF52/DLC_1/FRET/FRET_7/1B2_90_w26TIRFFRETacceptor.TIF\n",
      "processing file  122  of  256\n"
     ]
    },
    {
     "name": "stderr",
     "output_type": "stream",
     "text": [
      "/Users/max/opt/anaconda3/lib/python3.7/site-packages/ipykernel_launcher.py:58: RuntimeWarning: divide by zero encountered in true_divide\n",
      "/Users/max/opt/anaconda3/lib/python3.7/site-packages/ipykernel_launcher.py:58: RuntimeWarning: invalid value encountered in true_divide\n"
     ]
    },
    {
     "name": "stdout",
     "output_type": "stream",
     "text": [
      "/Volumes/imaging.data/Max/REF52/DLC_1/FRET/FRET_7/1B2_91_w26TIRFFRETacceptor.TIF\n",
      "processing file  123  of  256\n"
     ]
    },
    {
     "name": "stderr",
     "output_type": "stream",
     "text": [
      "/Users/max/opt/anaconda3/lib/python3.7/site-packages/ipykernel_launcher.py:58: RuntimeWarning: divide by zero encountered in true_divide\n",
      "/Users/max/opt/anaconda3/lib/python3.7/site-packages/ipykernel_launcher.py:58: RuntimeWarning: invalid value encountered in true_divide\n"
     ]
    },
    {
     "name": "stdout",
     "output_type": "stream",
     "text": [
      "/Volumes/imaging.data/Max/REF52/DLC_1/FRET/FRET_7/1B2_92_w26TIRFFRETacceptor.TIF\n",
      "processing file  124  of  256\n"
     ]
    },
    {
     "name": "stderr",
     "output_type": "stream",
     "text": [
      "/Users/max/opt/anaconda3/lib/python3.7/site-packages/ipykernel_launcher.py:58: RuntimeWarning: divide by zero encountered in true_divide\n",
      "/Users/max/opt/anaconda3/lib/python3.7/site-packages/ipykernel_launcher.py:58: RuntimeWarning: invalid value encountered in true_divide\n"
     ]
    },
    {
     "name": "stdout",
     "output_type": "stream",
     "text": [
      "/Volumes/imaging.data/Max/REF52/DLC_1/FRET/FRET_7/1B2_93_w26TIRFFRETacceptor.TIF\n",
      "processing file  125  of  256\n"
     ]
    },
    {
     "name": "stderr",
     "output_type": "stream",
     "text": [
      "/Users/max/opt/anaconda3/lib/python3.7/site-packages/ipykernel_launcher.py:58: RuntimeWarning: invalid value encountered in true_divide\n"
     ]
    },
    {
     "name": "stdout",
     "output_type": "stream",
     "text": [
      "/Volumes/imaging.data/Max/REF52/DLC_1/FRET/FRET_7/1B2_94_w26TIRFFRETacceptor.TIF\n",
      "processing file  126  of  256\n"
     ]
    },
    {
     "name": "stderr",
     "output_type": "stream",
     "text": [
      "/Users/max/opt/anaconda3/lib/python3.7/site-packages/ipykernel_launcher.py:58: RuntimeWarning: divide by zero encountered in true_divide\n",
      "/Users/max/opt/anaconda3/lib/python3.7/site-packages/ipykernel_launcher.py:58: RuntimeWarning: invalid value encountered in true_divide\n"
     ]
    },
    {
     "name": "stdout",
     "output_type": "stream",
     "text": [
      "/Volumes/imaging.data/Max/REF52/DLC_1/FRET/FRET_7/1B2_95_w26TIRFFRETacceptor.TIF\n",
      "processing file  127  of  256\n"
     ]
    },
    {
     "name": "stderr",
     "output_type": "stream",
     "text": [
      "/Users/max/opt/anaconda3/lib/python3.7/site-packages/ipykernel_launcher.py:58: RuntimeWarning: invalid value encountered in true_divide\n"
     ]
    },
    {
     "name": "stdout",
     "output_type": "stream",
     "text": [
      "/Volumes/imaging.data/Max/REF52/DLC_1/FRET/FRET_7/1B2_96_w26TIRFFRETacceptor.TIF\n",
      "processing file  128  of  256\n"
     ]
    },
    {
     "name": "stderr",
     "output_type": "stream",
     "text": [
      "/Users/max/opt/anaconda3/lib/python3.7/site-packages/ipykernel_launcher.py:58: RuntimeWarning: invalid value encountered in true_divide\n"
     ]
    },
    {
     "name": "stdout",
     "output_type": "stream",
     "text": [
      "/Volumes/imaging.data/Max/REF52/DLC_1/FRET/FRET_7/1B2_97_w26TIRFFRETacceptor.TIF\n",
      "processing file  129  of  256\n"
     ]
    },
    {
     "name": "stderr",
     "output_type": "stream",
     "text": [
      "/Users/max/opt/anaconda3/lib/python3.7/site-packages/ipykernel_launcher.py:58: RuntimeWarning: invalid value encountered in true_divide\n"
     ]
    },
    {
     "name": "stdout",
     "output_type": "stream",
     "text": [
      "/Volumes/imaging.data/Max/REF52/DLC_1/FRET/FRET_7/1B2_98_w26TIRFFRETacceptor.TIF\n",
      "processing file  130  of  256\n"
     ]
    },
    {
     "name": "stderr",
     "output_type": "stream",
     "text": [
      "/Users/max/opt/anaconda3/lib/python3.7/site-packages/ipykernel_launcher.py:58: RuntimeWarning: invalid value encountered in true_divide\n"
     ]
    },
    {
     "name": "stdout",
     "output_type": "stream",
     "text": [
      "/Volumes/imaging.data/Max/REF52/DLC_1/FRET/FRET_7/1B2_99_w26TIRFFRETacceptor.TIF\n",
      "processing file  131  of  256\n"
     ]
    },
    {
     "name": "stderr",
     "output_type": "stream",
     "text": [
      "/Users/max/opt/anaconda3/lib/python3.7/site-packages/ipykernel_launcher.py:58: RuntimeWarning: divide by zero encountered in true_divide\n",
      "/Users/max/opt/anaconda3/lib/python3.7/site-packages/ipykernel_launcher.py:58: RuntimeWarning: invalid value encountered in true_divide\n"
     ]
    },
    {
     "name": "stdout",
     "output_type": "stream",
     "text": [
      "/Volumes/imaging.data/Max/REF52/DLC_1/FRET/FRET_7/1B2_9_w26TIRFFRETacceptor.TIF\n",
      "processing file  132  of  256\n"
     ]
    },
    {
     "name": "stderr",
     "output_type": "stream",
     "text": [
      "/Users/max/opt/anaconda3/lib/python3.7/site-packages/ipykernel_launcher.py:58: RuntimeWarning: invalid value encountered in true_divide\n"
     ]
    },
    {
     "name": "stdout",
     "output_type": "stream",
     "text": [
      "/Volumes/imaging.data/Max/REF52/DLC_1/FRET/FRET_7/REF52_100_w26TIRFFRETacceptor.TIF\n",
      "processing file  133  of  256\n"
     ]
    },
    {
     "name": "stderr",
     "output_type": "stream",
     "text": [
      "/Users/max/opt/anaconda3/lib/python3.7/site-packages/ipykernel_launcher.py:58: RuntimeWarning: invalid value encountered in true_divide\n"
     ]
    },
    {
     "name": "stdout",
     "output_type": "stream",
     "text": [
      "/Volumes/imaging.data/Max/REF52/DLC_1/FRET/FRET_7/REF52_101_w26TIRFFRETacceptor.TIF\n",
      "processing file  134  of  256\n"
     ]
    },
    {
     "name": "stderr",
     "output_type": "stream",
     "text": [
      "/Users/max/opt/anaconda3/lib/python3.7/site-packages/ipykernel_launcher.py:58: RuntimeWarning: invalid value encountered in true_divide\n"
     ]
    },
    {
     "name": "stdout",
     "output_type": "stream",
     "text": [
      "/Volumes/imaging.data/Max/REF52/DLC_1/FRET/FRET_7/REF52_102_w26TIRFFRETacceptor.TIF\n",
      "processing file  135  of  256\n"
     ]
    },
    {
     "name": "stderr",
     "output_type": "stream",
     "text": [
      "/Users/max/opt/anaconda3/lib/python3.7/site-packages/ipykernel_launcher.py:58: RuntimeWarning: invalid value encountered in true_divide\n"
     ]
    },
    {
     "name": "stdout",
     "output_type": "stream",
     "text": [
      "/Volumes/imaging.data/Max/REF52/DLC_1/FRET/FRET_7/REF52_103_w26TIRFFRETacceptor.TIF\n",
      "processing file  136  of  256\n"
     ]
    },
    {
     "name": "stderr",
     "output_type": "stream",
     "text": [
      "/Users/max/opt/anaconda3/lib/python3.7/site-packages/ipykernel_launcher.py:58: RuntimeWarning: invalid value encountered in true_divide\n"
     ]
    },
    {
     "name": "stdout",
     "output_type": "stream",
     "text": [
      "/Volumes/imaging.data/Max/REF52/DLC_1/FRET/FRET_7/REF52_104_w26TIRFFRETacceptor.TIF\n",
      "processing file  137  of  256\n"
     ]
    },
    {
     "name": "stderr",
     "output_type": "stream",
     "text": [
      "/Users/max/opt/anaconda3/lib/python3.7/site-packages/ipykernel_launcher.py:58: RuntimeWarning: invalid value encountered in true_divide\n"
     ]
    },
    {
     "name": "stdout",
     "output_type": "stream",
     "text": [
      "/Volumes/imaging.data/Max/REF52/DLC_1/FRET/FRET_7/REF52_105_w26TIRFFRETacceptor.TIF\n",
      "processing file  138  of  256\n"
     ]
    },
    {
     "name": "stderr",
     "output_type": "stream",
     "text": [
      "/Users/max/opt/anaconda3/lib/python3.7/site-packages/ipykernel_launcher.py:58: RuntimeWarning: invalid value encountered in true_divide\n"
     ]
    },
    {
     "name": "stdout",
     "output_type": "stream",
     "text": [
      "/Volumes/imaging.data/Max/REF52/DLC_1/FRET/FRET_7/REF52_106_w26TIRFFRETacceptor.TIF\n",
      "processing file  139  of  256\n"
     ]
    },
    {
     "name": "stderr",
     "output_type": "stream",
     "text": [
      "/Users/max/opt/anaconda3/lib/python3.7/site-packages/ipykernel_launcher.py:58: RuntimeWarning: divide by zero encountered in true_divide\n",
      "/Users/max/opt/anaconda3/lib/python3.7/site-packages/ipykernel_launcher.py:58: RuntimeWarning: invalid value encountered in true_divide\n"
     ]
    },
    {
     "name": "stdout",
     "output_type": "stream",
     "text": [
      "/Volumes/imaging.data/Max/REF52/DLC_1/FRET/FRET_7/REF52_107_w26TIRFFRETacceptor.TIF\n",
      "processing file  140  of  256\n"
     ]
    },
    {
     "name": "stderr",
     "output_type": "stream",
     "text": [
      "/Users/max/opt/anaconda3/lib/python3.7/site-packages/ipykernel_launcher.py:58: RuntimeWarning: invalid value encountered in true_divide\n"
     ]
    },
    {
     "name": "stdout",
     "output_type": "stream",
     "text": [
      "/Volumes/imaging.data/Max/REF52/DLC_1/FRET/FRET_7/REF52_108_w26TIRFFRETacceptor.TIF\n",
      "processing file  141  of  256\n"
     ]
    },
    {
     "name": "stderr",
     "output_type": "stream",
     "text": [
      "/Users/max/opt/anaconda3/lib/python3.7/site-packages/ipykernel_launcher.py:58: RuntimeWarning: invalid value encountered in true_divide\n"
     ]
    },
    {
     "name": "stdout",
     "output_type": "stream",
     "text": [
      "/Volumes/imaging.data/Max/REF52/DLC_1/FRET/FRET_7/REF52_109_w26TIRFFRETacceptor.TIF\n",
      "processing file  142  of  256\n"
     ]
    },
    {
     "name": "stderr",
     "output_type": "stream",
     "text": [
      "/Users/max/opt/anaconda3/lib/python3.7/site-packages/ipykernel_launcher.py:58: RuntimeWarning: invalid value encountered in true_divide\n"
     ]
    },
    {
     "name": "stdout",
     "output_type": "stream",
     "text": [
      "/Volumes/imaging.data/Max/REF52/DLC_1/FRET/FRET_7/REF52_10_w26TIRFFRETacceptor.TIF\n",
      "processing file  143  of  256\n"
     ]
    },
    {
     "name": "stderr",
     "output_type": "stream",
     "text": [
      "/Users/max/opt/anaconda3/lib/python3.7/site-packages/ipykernel_launcher.py:58: RuntimeWarning: invalid value encountered in true_divide\n"
     ]
    },
    {
     "name": "stdout",
     "output_type": "stream",
     "text": [
      "/Volumes/imaging.data/Max/REF52/DLC_1/FRET/FRET_7/REF52_11_w26TIRFFRETacceptor.TIF\n",
      "processing file  144  of  256\n"
     ]
    },
    {
     "name": "stderr",
     "output_type": "stream",
     "text": [
      "/Users/max/opt/anaconda3/lib/python3.7/site-packages/ipykernel_launcher.py:58: RuntimeWarning: invalid value encountered in true_divide\n"
     ]
    },
    {
     "name": "stdout",
     "output_type": "stream",
     "text": [
      "/Volumes/imaging.data/Max/REF52/DLC_1/FRET/FRET_7/REF52_12_w26TIRFFRETacceptor.TIF\n",
      "processing file  145  of  256\n"
     ]
    },
    {
     "name": "stderr",
     "output_type": "stream",
     "text": [
      "/Users/max/opt/anaconda3/lib/python3.7/site-packages/ipykernel_launcher.py:58: RuntimeWarning: invalid value encountered in true_divide\n"
     ]
    },
    {
     "name": "stdout",
     "output_type": "stream",
     "text": [
      "/Volumes/imaging.data/Max/REF52/DLC_1/FRET/FRET_7/REF52_13_w26TIRFFRETacceptor.TIF\n",
      "processing file  146  of  256\n"
     ]
    },
    {
     "name": "stderr",
     "output_type": "stream",
     "text": [
      "/Users/max/opt/anaconda3/lib/python3.7/site-packages/ipykernel_launcher.py:58: RuntimeWarning: divide by zero encountered in true_divide\n",
      "/Users/max/opt/anaconda3/lib/python3.7/site-packages/ipykernel_launcher.py:58: RuntimeWarning: invalid value encountered in true_divide\n"
     ]
    },
    {
     "name": "stdout",
     "output_type": "stream",
     "text": [
      "/Volumes/imaging.data/Max/REF52/DLC_1/FRET/FRET_7/REF52_14_w26TIRFFRETacceptor.TIF\n",
      "processing file  147  of  256\n"
     ]
    },
    {
     "name": "stderr",
     "output_type": "stream",
     "text": [
      "/Users/max/opt/anaconda3/lib/python3.7/site-packages/ipykernel_launcher.py:58: RuntimeWarning: divide by zero encountered in true_divide\n",
      "/Users/max/opt/anaconda3/lib/python3.7/site-packages/ipykernel_launcher.py:58: RuntimeWarning: invalid value encountered in true_divide\n"
     ]
    },
    {
     "name": "stdout",
     "output_type": "stream",
     "text": [
      "/Volumes/imaging.data/Max/REF52/DLC_1/FRET/FRET_7/REF52_15_w26TIRFFRETacceptor.TIF\n",
      "processing file  148  of  256\n"
     ]
    },
    {
     "name": "stderr",
     "output_type": "stream",
     "text": [
      "/Users/max/opt/anaconda3/lib/python3.7/site-packages/ipykernel_launcher.py:58: RuntimeWarning: invalid value encountered in true_divide\n"
     ]
    },
    {
     "name": "stdout",
     "output_type": "stream",
     "text": [
      "/Volumes/imaging.data/Max/REF52/DLC_1/FRET/FRET_7/REF52_16_w26TIRFFRETacceptor.TIF\n",
      "processing file  149  of  256\n"
     ]
    },
    {
     "name": "stderr",
     "output_type": "stream",
     "text": [
      "/Users/max/opt/anaconda3/lib/python3.7/site-packages/ipykernel_launcher.py:58: RuntimeWarning: invalid value encountered in true_divide\n"
     ]
    },
    {
     "name": "stdout",
     "output_type": "stream",
     "text": [
      "/Volumes/imaging.data/Max/REF52/DLC_1/FRET/FRET_7/REF52_17_w26TIRFFRETacceptor.TIF\n",
      "processing file  150  of  256\n"
     ]
    },
    {
     "name": "stderr",
     "output_type": "stream",
     "text": [
      "/Users/max/opt/anaconda3/lib/python3.7/site-packages/ipykernel_launcher.py:58: RuntimeWarning: invalid value encountered in true_divide\n"
     ]
    },
    {
     "name": "stdout",
     "output_type": "stream",
     "text": [
      "/Volumes/imaging.data/Max/REF52/DLC_1/FRET/FRET_7/REF52_18_w26TIRFFRETacceptor.TIF\n",
      "processing file  151  of  256\n"
     ]
    },
    {
     "name": "stderr",
     "output_type": "stream",
     "text": [
      "/Users/max/opt/anaconda3/lib/python3.7/site-packages/ipykernel_launcher.py:58: RuntimeWarning: invalid value encountered in true_divide\n"
     ]
    },
    {
     "name": "stdout",
     "output_type": "stream",
     "text": [
      "/Volumes/imaging.data/Max/REF52/DLC_1/FRET/FRET_7/REF52_19_w26TIRFFRETacceptor.TIF\n",
      "processing file  152  of  256\n"
     ]
    },
    {
     "name": "stderr",
     "output_type": "stream",
     "text": [
      "/Users/max/opt/anaconda3/lib/python3.7/site-packages/ipykernel_launcher.py:58: RuntimeWarning: invalid value encountered in true_divide\n"
     ]
    },
    {
     "name": "stdout",
     "output_type": "stream",
     "text": [
      "/Volumes/imaging.data/Max/REF52/DLC_1/FRET/FRET_7/REF52_1_w26TIRFFRETacceptor.TIF\n",
      "processing file  153  of  256\n"
     ]
    },
    {
     "name": "stderr",
     "output_type": "stream",
     "text": [
      "/Users/max/opt/anaconda3/lib/python3.7/site-packages/ipykernel_launcher.py:58: RuntimeWarning: divide by zero encountered in true_divide\n",
      "/Users/max/opt/anaconda3/lib/python3.7/site-packages/ipykernel_launcher.py:58: RuntimeWarning: invalid value encountered in true_divide\n"
     ]
    },
    {
     "name": "stdout",
     "output_type": "stream",
     "text": [
      "/Volumes/imaging.data/Max/REF52/DLC_1/FRET/FRET_7/REF52_20_w26TIRFFRETacceptor.TIF\n",
      "processing file  154  of  256\n"
     ]
    },
    {
     "name": "stderr",
     "output_type": "stream",
     "text": [
      "/Users/max/opt/anaconda3/lib/python3.7/site-packages/ipykernel_launcher.py:58: RuntimeWarning: invalid value encountered in true_divide\n"
     ]
    },
    {
     "name": "stdout",
     "output_type": "stream",
     "text": [
      "/Volumes/imaging.data/Max/REF52/DLC_1/FRET/FRET_7/REF52_21_w26TIRFFRETacceptor.TIF\n",
      "processing file  155  of  256\n"
     ]
    },
    {
     "name": "stderr",
     "output_type": "stream",
     "text": [
      "/Users/max/opt/anaconda3/lib/python3.7/site-packages/ipykernel_launcher.py:58: RuntimeWarning: invalid value encountered in true_divide\n"
     ]
    },
    {
     "name": "stdout",
     "output_type": "stream",
     "text": [
      "/Volumes/imaging.data/Max/REF52/DLC_1/FRET/FRET_7/REF52_22_w26TIRFFRETacceptor.TIF\n",
      "processing file  156  of  256\n"
     ]
    },
    {
     "name": "stderr",
     "output_type": "stream",
     "text": [
      "/Users/max/opt/anaconda3/lib/python3.7/site-packages/ipykernel_launcher.py:58: RuntimeWarning: divide by zero encountered in true_divide\n",
      "/Users/max/opt/anaconda3/lib/python3.7/site-packages/ipykernel_launcher.py:58: RuntimeWarning: invalid value encountered in true_divide\n"
     ]
    },
    {
     "name": "stdout",
     "output_type": "stream",
     "text": [
      "/Volumes/imaging.data/Max/REF52/DLC_1/FRET/FRET_7/REF52_23_w26TIRFFRETacceptor.TIF\n",
      "processing file  157  of  256\n"
     ]
    },
    {
     "name": "stderr",
     "output_type": "stream",
     "text": [
      "/Users/max/opt/anaconda3/lib/python3.7/site-packages/ipykernel_launcher.py:58: RuntimeWarning: divide by zero encountered in true_divide\n",
      "/Users/max/opt/anaconda3/lib/python3.7/site-packages/ipykernel_launcher.py:58: RuntimeWarning: invalid value encountered in true_divide\n"
     ]
    },
    {
     "name": "stdout",
     "output_type": "stream",
     "text": [
      "/Volumes/imaging.data/Max/REF52/DLC_1/FRET/FRET_7/REF52_24_w26TIRFFRETacceptor.TIF\n",
      "processing file  158  of  256\n"
     ]
    },
    {
     "name": "stderr",
     "output_type": "stream",
     "text": [
      "/Users/max/opt/anaconda3/lib/python3.7/site-packages/ipykernel_launcher.py:58: RuntimeWarning: invalid value encountered in true_divide\n"
     ]
    },
    {
     "name": "stdout",
     "output_type": "stream",
     "text": [
      "/Volumes/imaging.data/Max/REF52/DLC_1/FRET/FRET_7/REF52_25_w26TIRFFRETacceptor.TIF\n",
      "processing file  159  of  256\n"
     ]
    },
    {
     "name": "stderr",
     "output_type": "stream",
     "text": [
      "/Users/max/opt/anaconda3/lib/python3.7/site-packages/ipykernel_launcher.py:58: RuntimeWarning: divide by zero encountered in true_divide\n",
      "/Users/max/opt/anaconda3/lib/python3.7/site-packages/ipykernel_launcher.py:58: RuntimeWarning: invalid value encountered in true_divide\n"
     ]
    },
    {
     "name": "stdout",
     "output_type": "stream",
     "text": [
      "/Volumes/imaging.data/Max/REF52/DLC_1/FRET/FRET_7/REF52_26_w26TIRFFRETacceptor.TIF\n",
      "processing file  160  of  256\n"
     ]
    },
    {
     "name": "stderr",
     "output_type": "stream",
     "text": [
      "/Users/max/opt/anaconda3/lib/python3.7/site-packages/ipykernel_launcher.py:58: RuntimeWarning: invalid value encountered in true_divide\n"
     ]
    },
    {
     "name": "stdout",
     "output_type": "stream",
     "text": [
      "/Volumes/imaging.data/Max/REF52/DLC_1/FRET/FRET_7/REF52_27_w26TIRFFRETacceptor.TIF\n",
      "processing file  161  of  256\n"
     ]
    },
    {
     "name": "stderr",
     "output_type": "stream",
     "text": [
      "/Users/max/opt/anaconda3/lib/python3.7/site-packages/ipykernel_launcher.py:58: RuntimeWarning: invalid value encountered in true_divide\n"
     ]
    },
    {
     "name": "stdout",
     "output_type": "stream",
     "text": [
      "/Volumes/imaging.data/Max/REF52/DLC_1/FRET/FRET_7/REF52_28_w26TIRFFRETacceptor.TIF\n",
      "processing file  162  of  256\n"
     ]
    },
    {
     "name": "stderr",
     "output_type": "stream",
     "text": [
      "/Users/max/opt/anaconda3/lib/python3.7/site-packages/ipykernel_launcher.py:58: RuntimeWarning: invalid value encountered in true_divide\n"
     ]
    },
    {
     "name": "stdout",
     "output_type": "stream",
     "text": [
      "/Volumes/imaging.data/Max/REF52/DLC_1/FRET/FRET_7/REF52_29_w26TIRFFRETacceptor.TIF\n",
      "processing file  163  of  256\n"
     ]
    },
    {
     "name": "stderr",
     "output_type": "stream",
     "text": [
      "/Users/max/opt/anaconda3/lib/python3.7/site-packages/ipykernel_launcher.py:58: RuntimeWarning: invalid value encountered in true_divide\n"
     ]
    },
    {
     "name": "stdout",
     "output_type": "stream",
     "text": [
      "/Volumes/imaging.data/Max/REF52/DLC_1/FRET/FRET_7/REF52_2_w26TIRFFRETacceptor.TIF\n",
      "processing file  164  of  256\n"
     ]
    },
    {
     "name": "stderr",
     "output_type": "stream",
     "text": [
      "/Users/max/opt/anaconda3/lib/python3.7/site-packages/ipykernel_launcher.py:58: RuntimeWarning: invalid value encountered in true_divide\n"
     ]
    },
    {
     "name": "stdout",
     "output_type": "stream",
     "text": [
      "/Volumes/imaging.data/Max/REF52/DLC_1/FRET/FRET_7/REF52_30_w26TIRFFRETacceptor.TIF\n",
      "processing file  165  of  256\n"
     ]
    },
    {
     "name": "stderr",
     "output_type": "stream",
     "text": [
      "/Users/max/opt/anaconda3/lib/python3.7/site-packages/ipykernel_launcher.py:58: RuntimeWarning: invalid value encountered in true_divide\n"
     ]
    },
    {
     "name": "stdout",
     "output_type": "stream",
     "text": [
      "/Volumes/imaging.data/Max/REF52/DLC_1/FRET/FRET_7/REF52_31_w26TIRFFRETacceptor.TIF\n",
      "processing file  166  of  256\n"
     ]
    },
    {
     "name": "stderr",
     "output_type": "stream",
     "text": [
      "/Users/max/opt/anaconda3/lib/python3.7/site-packages/ipykernel_launcher.py:58: RuntimeWarning: invalid value encountered in true_divide\n"
     ]
    },
    {
     "name": "stdout",
     "output_type": "stream",
     "text": [
      "/Volumes/imaging.data/Max/REF52/DLC_1/FRET/FRET_7/REF52_32_w26TIRFFRETacceptor.TIF\n",
      "processing file  167  of  256\n"
     ]
    },
    {
     "name": "stderr",
     "output_type": "stream",
     "text": [
      "/Users/max/opt/anaconda3/lib/python3.7/site-packages/ipykernel_launcher.py:58: RuntimeWarning: invalid value encountered in true_divide\n"
     ]
    },
    {
     "name": "stdout",
     "output_type": "stream",
     "text": [
      "/Volumes/imaging.data/Max/REF52/DLC_1/FRET/FRET_7/REF52_33_w26TIRFFRETacceptor.TIF\n",
      "processing file  168  of  256\n"
     ]
    },
    {
     "name": "stderr",
     "output_type": "stream",
     "text": [
      "/Users/max/opt/anaconda3/lib/python3.7/site-packages/ipykernel_launcher.py:58: RuntimeWarning: invalid value encountered in true_divide\n"
     ]
    },
    {
     "name": "stdout",
     "output_type": "stream",
     "text": [
      "/Volumes/imaging.data/Max/REF52/DLC_1/FRET/FRET_7/REF52_34_w26TIRFFRETacceptor.TIF\n",
      "processing file  169  of  256\n"
     ]
    },
    {
     "name": "stderr",
     "output_type": "stream",
     "text": [
      "/Users/max/opt/anaconda3/lib/python3.7/site-packages/ipykernel_launcher.py:58: RuntimeWarning: divide by zero encountered in true_divide\n",
      "/Users/max/opt/anaconda3/lib/python3.7/site-packages/ipykernel_launcher.py:58: RuntimeWarning: invalid value encountered in true_divide\n"
     ]
    },
    {
     "name": "stdout",
     "output_type": "stream",
     "text": [
      "/Volumes/imaging.data/Max/REF52/DLC_1/FRET/FRET_7/REF52_35_w26TIRFFRETacceptor.TIF\n",
      "processing file  170  of  256\n"
     ]
    },
    {
     "name": "stderr",
     "output_type": "stream",
     "text": [
      "/Users/max/opt/anaconda3/lib/python3.7/site-packages/ipykernel_launcher.py:58: RuntimeWarning: invalid value encountered in true_divide\n"
     ]
    },
    {
     "name": "stdout",
     "output_type": "stream",
     "text": [
      "/Volumes/imaging.data/Max/REF52/DLC_1/FRET/FRET_7/REF52_36_w26TIRFFRETacceptor.TIF\n",
      "processing file  171  of  256\n"
     ]
    },
    {
     "name": "stderr",
     "output_type": "stream",
     "text": [
      "/Users/max/opt/anaconda3/lib/python3.7/site-packages/ipykernel_launcher.py:58: RuntimeWarning: invalid value encountered in true_divide\n"
     ]
    },
    {
     "name": "stdout",
     "output_type": "stream",
     "text": [
      "/Volumes/imaging.data/Max/REF52/DLC_1/FRET/FRET_7/REF52_37_w26TIRFFRETacceptor.TIF\n",
      "processing file  172  of  256\n"
     ]
    },
    {
     "name": "stderr",
     "output_type": "stream",
     "text": [
      "/Users/max/opt/anaconda3/lib/python3.7/site-packages/ipykernel_launcher.py:58: RuntimeWarning: invalid value encountered in true_divide\n"
     ]
    },
    {
     "name": "stdout",
     "output_type": "stream",
     "text": [
      "/Volumes/imaging.data/Max/REF52/DLC_1/FRET/FRET_7/REF52_38_w26TIRFFRETacceptor.TIF\n",
      "processing file  173  of  256\n"
     ]
    },
    {
     "name": "stderr",
     "output_type": "stream",
     "text": [
      "/Users/max/opt/anaconda3/lib/python3.7/site-packages/ipykernel_launcher.py:58: RuntimeWarning: invalid value encountered in true_divide\n"
     ]
    },
    {
     "name": "stdout",
     "output_type": "stream",
     "text": [
      "/Volumes/imaging.data/Max/REF52/DLC_1/FRET/FRET_7/REF52_39_w26TIRFFRETacceptor.TIF\n",
      "processing file  174  of  256\n"
     ]
    },
    {
     "name": "stderr",
     "output_type": "stream",
     "text": [
      "/Users/max/opt/anaconda3/lib/python3.7/site-packages/ipykernel_launcher.py:58: RuntimeWarning: invalid value encountered in true_divide\n"
     ]
    },
    {
     "name": "stdout",
     "output_type": "stream",
     "text": [
      "/Volumes/imaging.data/Max/REF52/DLC_1/FRET/FRET_7/REF52_3_w26TIRFFRETacceptor.TIF\n",
      "processing file  175  of  256\n"
     ]
    },
    {
     "name": "stderr",
     "output_type": "stream",
     "text": [
      "/Users/max/opt/anaconda3/lib/python3.7/site-packages/ipykernel_launcher.py:58: RuntimeWarning: invalid value encountered in true_divide\n"
     ]
    },
    {
     "name": "stdout",
     "output_type": "stream",
     "text": [
      "/Volumes/imaging.data/Max/REF52/DLC_1/FRET/FRET_7/REF52_40_w26TIRFFRETacceptor.TIF\n",
      "processing file  176  of  256\n"
     ]
    },
    {
     "name": "stderr",
     "output_type": "stream",
     "text": [
      "/Users/max/opt/anaconda3/lib/python3.7/site-packages/ipykernel_launcher.py:58: RuntimeWarning: divide by zero encountered in true_divide\n",
      "/Users/max/opt/anaconda3/lib/python3.7/site-packages/ipykernel_launcher.py:58: RuntimeWarning: invalid value encountered in true_divide\n"
     ]
    },
    {
     "name": "stdout",
     "output_type": "stream",
     "text": [
      "/Volumes/imaging.data/Max/REF52/DLC_1/FRET/FRET_7/REF52_41_w26TIRFFRETacceptor.TIF\n",
      "processing file  177  of  256\n"
     ]
    },
    {
     "name": "stderr",
     "output_type": "stream",
     "text": [
      "/Users/max/opt/anaconda3/lib/python3.7/site-packages/ipykernel_launcher.py:58: RuntimeWarning: divide by zero encountered in true_divide\n",
      "/Users/max/opt/anaconda3/lib/python3.7/site-packages/ipykernel_launcher.py:58: RuntimeWarning: invalid value encountered in true_divide\n"
     ]
    },
    {
     "name": "stdout",
     "output_type": "stream",
     "text": [
      "/Volumes/imaging.data/Max/REF52/DLC_1/FRET/FRET_7/REF52_42_w26TIRFFRETacceptor.TIF\n",
      "processing file  178  of  256\n"
     ]
    },
    {
     "name": "stderr",
     "output_type": "stream",
     "text": [
      "/Users/max/opt/anaconda3/lib/python3.7/site-packages/ipykernel_launcher.py:58: RuntimeWarning: invalid value encountered in true_divide\n"
     ]
    },
    {
     "name": "stdout",
     "output_type": "stream",
     "text": [
      "/Volumes/imaging.data/Max/REF52/DLC_1/FRET/FRET_7/REF52_43_w26TIRFFRETacceptor.TIF\n",
      "processing file  179  of  256\n"
     ]
    },
    {
     "name": "stderr",
     "output_type": "stream",
     "text": [
      "/Users/max/opt/anaconda3/lib/python3.7/site-packages/ipykernel_launcher.py:58: RuntimeWarning: invalid value encountered in true_divide\n"
     ]
    },
    {
     "name": "stdout",
     "output_type": "stream",
     "text": [
      "/Volumes/imaging.data/Max/REF52/DLC_1/FRET/FRET_7/REF52_44_w26TIRFFRETacceptor.TIF\n",
      "processing file  180  of  256\n"
     ]
    },
    {
     "name": "stderr",
     "output_type": "stream",
     "text": [
      "/Users/max/opt/anaconda3/lib/python3.7/site-packages/ipykernel_launcher.py:58: RuntimeWarning: invalid value encountered in true_divide\n"
     ]
    },
    {
     "name": "stdout",
     "output_type": "stream",
     "text": [
      "/Volumes/imaging.data/Max/REF52/DLC_1/FRET/FRET_7/REF52_45_w26TIRFFRETacceptor.TIF\n",
      "processing file  181  of  256\n"
     ]
    },
    {
     "name": "stderr",
     "output_type": "stream",
     "text": [
      "/Users/max/opt/anaconda3/lib/python3.7/site-packages/ipykernel_launcher.py:58: RuntimeWarning: divide by zero encountered in true_divide\n",
      "/Users/max/opt/anaconda3/lib/python3.7/site-packages/ipykernel_launcher.py:58: RuntimeWarning: invalid value encountered in true_divide\n"
     ]
    },
    {
     "name": "stdout",
     "output_type": "stream",
     "text": [
      "/Volumes/imaging.data/Max/REF52/DLC_1/FRET/FRET_7/REF52_46_w26TIRFFRETacceptor.TIF\n",
      "processing file  182  of  256\n"
     ]
    },
    {
     "name": "stderr",
     "output_type": "stream",
     "text": [
      "/Users/max/opt/anaconda3/lib/python3.7/site-packages/ipykernel_launcher.py:58: RuntimeWarning: invalid value encountered in true_divide\n"
     ]
    },
    {
     "name": "stdout",
     "output_type": "stream",
     "text": [
      "/Volumes/imaging.data/Max/REF52/DLC_1/FRET/FRET_7/REF52_47_w26TIRFFRETacceptor.TIF\n",
      "processing file  183  of  256\n"
     ]
    },
    {
     "name": "stderr",
     "output_type": "stream",
     "text": [
      "/Users/max/opt/anaconda3/lib/python3.7/site-packages/ipykernel_launcher.py:58: RuntimeWarning: invalid value encountered in true_divide\n"
     ]
    },
    {
     "name": "stdout",
     "output_type": "stream",
     "text": [
      "/Volumes/imaging.data/Max/REF52/DLC_1/FRET/FRET_7/REF52_48_w26TIRFFRETacceptor.TIF\n",
      "processing file  184  of  256\n"
     ]
    },
    {
     "name": "stderr",
     "output_type": "stream",
     "text": [
      "/Users/max/opt/anaconda3/lib/python3.7/site-packages/ipykernel_launcher.py:58: RuntimeWarning: divide by zero encountered in true_divide\n",
      "/Users/max/opt/anaconda3/lib/python3.7/site-packages/ipykernel_launcher.py:58: RuntimeWarning: invalid value encountered in true_divide\n"
     ]
    },
    {
     "name": "stdout",
     "output_type": "stream",
     "text": [
      "/Volumes/imaging.data/Max/REF52/DLC_1/FRET/FRET_7/REF52_49_w26TIRFFRETacceptor.TIF\n",
      "processing file  185  of  256\n"
     ]
    },
    {
     "name": "stderr",
     "output_type": "stream",
     "text": [
      "/Users/max/opt/anaconda3/lib/python3.7/site-packages/ipykernel_launcher.py:58: RuntimeWarning: invalid value encountered in true_divide\n"
     ]
    },
    {
     "name": "stdout",
     "output_type": "stream",
     "text": [
      "/Volumes/imaging.data/Max/REF52/DLC_1/FRET/FRET_7/REF52_4_w26TIRFFRETacceptor.TIF\n",
      "processing file  186  of  256\n"
     ]
    },
    {
     "name": "stderr",
     "output_type": "stream",
     "text": [
      "/Users/max/opt/anaconda3/lib/python3.7/site-packages/ipykernel_launcher.py:58: RuntimeWarning: invalid value encountered in true_divide\n"
     ]
    },
    {
     "name": "stdout",
     "output_type": "stream",
     "text": [
      "/Volumes/imaging.data/Max/REF52/DLC_1/FRET/FRET_7/REF52_50_w26TIRFFRETacceptor.TIF\n",
      "processing file  187  of  256\n"
     ]
    },
    {
     "name": "stderr",
     "output_type": "stream",
     "text": [
      "/Users/max/opt/anaconda3/lib/python3.7/site-packages/ipykernel_launcher.py:58: RuntimeWarning: invalid value encountered in true_divide\n"
     ]
    },
    {
     "name": "stdout",
     "output_type": "stream",
     "text": [
      "/Volumes/imaging.data/Max/REF52/DLC_1/FRET/FRET_7/REF52_51_w26TIRFFRETacceptor.TIF\n",
      "processing file  188  of  256\n"
     ]
    },
    {
     "name": "stderr",
     "output_type": "stream",
     "text": [
      "/Users/max/opt/anaconda3/lib/python3.7/site-packages/ipykernel_launcher.py:58: RuntimeWarning: divide by zero encountered in true_divide\n",
      "/Users/max/opt/anaconda3/lib/python3.7/site-packages/ipykernel_launcher.py:58: RuntimeWarning: invalid value encountered in true_divide\n"
     ]
    },
    {
     "name": "stdout",
     "output_type": "stream",
     "text": [
      "/Volumes/imaging.data/Max/REF52/DLC_1/FRET/FRET_7/REF52_52_w26TIRFFRETacceptor.TIF\n",
      "processing file  189  of  256\n"
     ]
    },
    {
     "name": "stderr",
     "output_type": "stream",
     "text": [
      "/Users/max/opt/anaconda3/lib/python3.7/site-packages/ipykernel_launcher.py:58: RuntimeWarning: invalid value encountered in true_divide\n"
     ]
    },
    {
     "name": "stdout",
     "output_type": "stream",
     "text": [
      "/Volumes/imaging.data/Max/REF52/DLC_1/FRET/FRET_7/REF52_53_w26TIRFFRETacceptor.TIF\n",
      "processing file  190  of  256\n"
     ]
    },
    {
     "name": "stderr",
     "output_type": "stream",
     "text": [
      "/Users/max/opt/anaconda3/lib/python3.7/site-packages/ipykernel_launcher.py:58: RuntimeWarning: invalid value encountered in true_divide\n"
     ]
    },
    {
     "name": "stdout",
     "output_type": "stream",
     "text": [
      "/Volumes/imaging.data/Max/REF52/DLC_1/FRET/FRET_7/REF52_54_w26TIRFFRETacceptor.TIF\n",
      "processing file  191  of  256\n"
     ]
    },
    {
     "name": "stderr",
     "output_type": "stream",
     "text": [
      "/Users/max/opt/anaconda3/lib/python3.7/site-packages/ipykernel_launcher.py:58: RuntimeWarning: invalid value encountered in true_divide\n"
     ]
    },
    {
     "name": "stdout",
     "output_type": "stream",
     "text": [
      "/Volumes/imaging.data/Max/REF52/DLC_1/FRET/FRET_7/REF52_55_w26TIRFFRETacceptor.TIF\n",
      "processing file  192  of  256\n"
     ]
    },
    {
     "name": "stderr",
     "output_type": "stream",
     "text": [
      "/Users/max/opt/anaconda3/lib/python3.7/site-packages/ipykernel_launcher.py:58: RuntimeWarning: invalid value encountered in true_divide\n"
     ]
    },
    {
     "name": "stdout",
     "output_type": "stream",
     "text": [
      "/Volumes/imaging.data/Max/REF52/DLC_1/FRET/FRET_7/REF52_56_w26TIRFFRETacceptor.TIF\n",
      "processing file  193  of  256\n"
     ]
    },
    {
     "name": "stderr",
     "output_type": "stream",
     "text": [
      "/Users/max/opt/anaconda3/lib/python3.7/site-packages/ipykernel_launcher.py:58: RuntimeWarning: invalid value encountered in true_divide\n"
     ]
    },
    {
     "name": "stdout",
     "output_type": "stream",
     "text": [
      "/Volumes/imaging.data/Max/REF52/DLC_1/FRET/FRET_7/REF52_57_w26TIRFFRETacceptor.TIF\n",
      "processing file  194  of  256\n"
     ]
    },
    {
     "name": "stderr",
     "output_type": "stream",
     "text": [
      "/Users/max/opt/anaconda3/lib/python3.7/site-packages/ipykernel_launcher.py:58: RuntimeWarning: invalid value encountered in true_divide\n"
     ]
    },
    {
     "name": "stdout",
     "output_type": "stream",
     "text": [
      "/Volumes/imaging.data/Max/REF52/DLC_1/FRET/FRET_7/REF52_58_w26TIRFFRETacceptor.TIF\n",
      "processing file  195  of  256\n"
     ]
    },
    {
     "name": "stderr",
     "output_type": "stream",
     "text": [
      "/Users/max/opt/anaconda3/lib/python3.7/site-packages/ipykernel_launcher.py:58: RuntimeWarning: invalid value encountered in true_divide\n"
     ]
    },
    {
     "name": "stdout",
     "output_type": "stream",
     "text": [
      "/Volumes/imaging.data/Max/REF52/DLC_1/FRET/FRET_7/REF52_59_w26TIRFFRETacceptor.TIF\n",
      "processing file  196  of  256\n"
     ]
    },
    {
     "name": "stderr",
     "output_type": "stream",
     "text": [
      "/Users/max/opt/anaconda3/lib/python3.7/site-packages/ipykernel_launcher.py:58: RuntimeWarning: invalid value encountered in true_divide\n"
     ]
    },
    {
     "name": "stdout",
     "output_type": "stream",
     "text": [
      "/Volumes/imaging.data/Max/REF52/DLC_1/FRET/FRET_7/REF52_5_w26TIRFFRETacceptor.TIF\n",
      "processing file  197  of  256\n"
     ]
    },
    {
     "name": "stderr",
     "output_type": "stream",
     "text": [
      "/Users/max/opt/anaconda3/lib/python3.7/site-packages/ipykernel_launcher.py:58: RuntimeWarning: invalid value encountered in true_divide\n"
     ]
    },
    {
     "name": "stdout",
     "output_type": "stream",
     "text": [
      "/Volumes/imaging.data/Max/REF52/DLC_1/FRET/FRET_7/REF52_60_w26TIRFFRETacceptor.TIF\n",
      "processing file  198  of  256\n"
     ]
    },
    {
     "name": "stderr",
     "output_type": "stream",
     "text": [
      "/Users/max/opt/anaconda3/lib/python3.7/site-packages/ipykernel_launcher.py:58: RuntimeWarning: invalid value encountered in true_divide\n"
     ]
    },
    {
     "name": "stdout",
     "output_type": "stream",
     "text": [
      "/Volumes/imaging.data/Max/REF52/DLC_1/FRET/FRET_7/REF52_61_w26TIRFFRETacceptor.TIF\n",
      "processing file  199  of  256\n"
     ]
    },
    {
     "name": "stderr",
     "output_type": "stream",
     "text": [
      "/Users/max/opt/anaconda3/lib/python3.7/site-packages/ipykernel_launcher.py:58: RuntimeWarning: invalid value encountered in true_divide\n"
     ]
    },
    {
     "name": "stdout",
     "output_type": "stream",
     "text": [
      "/Volumes/imaging.data/Max/REF52/DLC_1/FRET/FRET_7/REF52_62_w26TIRFFRETacceptor.TIF\n",
      "processing file  200  of  256\n"
     ]
    },
    {
     "name": "stderr",
     "output_type": "stream",
     "text": [
      "/Users/max/opt/anaconda3/lib/python3.7/site-packages/ipykernel_launcher.py:58: RuntimeWarning: invalid value encountered in true_divide\n"
     ]
    },
    {
     "name": "stdout",
     "output_type": "stream",
     "text": [
      "/Volumes/imaging.data/Max/REF52/DLC_1/FRET/FRET_7/REF52_63_w26TIRFFRETacceptor.TIF\n",
      "processing file  201  of  256\n"
     ]
    },
    {
     "name": "stderr",
     "output_type": "stream",
     "text": [
      "/Users/max/opt/anaconda3/lib/python3.7/site-packages/ipykernel_launcher.py:58: RuntimeWarning: invalid value encountered in true_divide\n"
     ]
    },
    {
     "name": "stdout",
     "output_type": "stream",
     "text": [
      "/Volumes/imaging.data/Max/REF52/DLC_1/FRET/FRET_7/REF52_64_w26TIRFFRETacceptor.TIF\n",
      "processing file  202  of  256\n"
     ]
    },
    {
     "name": "stderr",
     "output_type": "stream",
     "text": [
      "/Users/max/opt/anaconda3/lib/python3.7/site-packages/ipykernel_launcher.py:58: RuntimeWarning: invalid value encountered in true_divide\n"
     ]
    },
    {
     "name": "stdout",
     "output_type": "stream",
     "text": [
      "/Volumes/imaging.data/Max/REF52/DLC_1/FRET/FRET_7/REF52_65_w26TIRFFRETacceptor.TIF\n",
      "processing file  203  of  256\n"
     ]
    },
    {
     "name": "stderr",
     "output_type": "stream",
     "text": [
      "/Users/max/opt/anaconda3/lib/python3.7/site-packages/ipykernel_launcher.py:58: RuntimeWarning: invalid value encountered in true_divide\n"
     ]
    },
    {
     "name": "stdout",
     "output_type": "stream",
     "text": [
      "/Volumes/imaging.data/Max/REF52/DLC_1/FRET/FRET_7/REF52_66_w26TIRFFRETacceptor.TIF\n",
      "processing file  204  of  256\n"
     ]
    },
    {
     "name": "stderr",
     "output_type": "stream",
     "text": [
      "/Users/max/opt/anaconda3/lib/python3.7/site-packages/ipykernel_launcher.py:58: RuntimeWarning: invalid value encountered in true_divide\n"
     ]
    },
    {
     "name": "stdout",
     "output_type": "stream",
     "text": [
      "/Volumes/imaging.data/Max/REF52/DLC_1/FRET/FRET_7/REF52_67_w26TIRFFRETacceptor.TIF\n",
      "processing file  205  of  256\n"
     ]
    },
    {
     "name": "stderr",
     "output_type": "stream",
     "text": [
      "/Users/max/opt/anaconda3/lib/python3.7/site-packages/ipykernel_launcher.py:58: RuntimeWarning: invalid value encountered in true_divide\n"
     ]
    },
    {
     "name": "stdout",
     "output_type": "stream",
     "text": [
      "/Volumes/imaging.data/Max/REF52/DLC_1/FRET/FRET_7/REF52_68_w26TIRFFRETacceptor.TIF\n",
      "processing file  206  of  256\n"
     ]
    },
    {
     "name": "stderr",
     "output_type": "stream",
     "text": [
      "/Users/max/opt/anaconda3/lib/python3.7/site-packages/ipykernel_launcher.py:58: RuntimeWarning: invalid value encountered in true_divide\n"
     ]
    },
    {
     "name": "stdout",
     "output_type": "stream",
     "text": [
      "/Volumes/imaging.data/Max/REF52/DLC_1/FRET/FRET_7/REF52_69_w26TIRFFRETacceptor.TIF\n",
      "processing file  207  of  256\n"
     ]
    },
    {
     "name": "stderr",
     "output_type": "stream",
     "text": [
      "/Users/max/opt/anaconda3/lib/python3.7/site-packages/ipykernel_launcher.py:58: RuntimeWarning: invalid value encountered in true_divide\n"
     ]
    },
    {
     "name": "stdout",
     "output_type": "stream",
     "text": [
      "/Volumes/imaging.data/Max/REF52/DLC_1/FRET/FRET_7/REF52_6_w26TIRFFRETacceptor.TIF\n"
     ]
    },
    {
     "ename": "KeyboardInterrupt",
     "evalue": "",
     "output_type": "error",
     "traceback": [
      "\u001b[0;31m---------------------------------------------------------------------------\u001b[0m",
      "\u001b[0;31mKeyboardInterrupt\u001b[0m                         Traceback (most recent call last)",
      "\u001b[0;32m<ipython-input-18-971686282502>\u001b[0m in \u001b[0;36m<module>\u001b[0;34m\u001b[0m\n\u001b[1;32m     55\u001b[0m     \u001b[0mio\u001b[0m\u001b[0;34m.\u001b[0m\u001b[0mimsave\u001b[0m\u001b[0;34m(\u001b[0m\u001b[0mos\u001b[0m\u001b[0;34m.\u001b[0m\u001b[0mpath\u001b[0m\u001b[0;34m.\u001b[0m\u001b[0mjoin\u001b[0m\u001b[0;34m(\u001b[0m\u001b[0moutput_folder_segmentation\u001b[0m\u001b[0;34m,\u001b[0m \u001b[0;34m'mask'\u001b[0m\u001b[0;34m,\u001b[0m \u001b[0mos\u001b[0m\u001b[0;34m.\u001b[0m\u001b[0mpath\u001b[0m\u001b[0;34m.\u001b[0m\u001b[0mbasename\u001b[0m\u001b[0;34m(\u001b[0m\u001b[0mfilename\u001b[0m\u001b[0;34m)\u001b[0m\u001b[0;34m.\u001b[0m\u001b[0msplit\u001b[0m\u001b[0;34m(\u001b[0m\u001b[0;34m'.'\u001b[0m\u001b[0;34m)\u001b[0m\u001b[0;34m[\u001b[0m\u001b[0;36m0\u001b[0m\u001b[0;34m]\u001b[0m \u001b[0;34m+\u001b[0m \u001b[0;34m'mask'\u001b[0m\u001b[0;34m+\u001b[0m\u001b[0;34m'.tiff'\u001b[0m\u001b[0;34m)\u001b[0m\u001b[0;34m,\u001b[0m \u001b[0mframe_segmented\u001b[0m\u001b[0;34m,\u001b[0m \u001b[0mcheck_contrast\u001b[0m\u001b[0;34m=\u001b[0m\u001b[0;32mFalse\u001b[0m\u001b[0;34m)\u001b[0m\u001b[0;34m\u001b[0m\u001b[0;34m\u001b[0m\u001b[0m\n\u001b[1;32m     56\u001b[0m     \u001b[0;32mfor\u001b[0m \u001b[0mCFP\u001b[0m \u001b[0;32min\u001b[0m \u001b[0mCFPfilenames\u001b[0m\u001b[0;34m:\u001b[0m\u001b[0;34m\u001b[0m\u001b[0;34m\u001b[0m\u001b[0m\n\u001b[0;32m---> 57\u001b[0;31m         \u001b[0mCFPframe\u001b[0m\u001b[0;34m=\u001b[0m\u001b[0mio\u001b[0m\u001b[0;34m.\u001b[0m\u001b[0mimread\u001b[0m\u001b[0;34m(\u001b[0m\u001b[0mCFP\u001b[0m\u001b[0;34m)\u001b[0m\u001b[0;34m\u001b[0m\u001b[0;34m\u001b[0m\u001b[0m\n\u001b[0m\u001b[1;32m     58\u001b[0m         \u001b[0;32mif\u001b[0m \u001b[0mtimelapse\u001b[0m\u001b[0;34m==\u001b[0m\u001b[0;32mFalse\u001b[0m\u001b[0;34m:\u001b[0m\u001b[0;34m\u001b[0m\u001b[0;34m\u001b[0m\u001b[0m\n\u001b[1;32m     59\u001b[0m             \u001b[0mCFPname\u001b[0m\u001b[0;34m=\u001b[0m\u001b[0mre\u001b[0m\u001b[0;34m.\u001b[0m\u001b[0msearch\u001b[0m\u001b[0;34m(\u001b[0m\u001b[0mpattern\u001b[0m\u001b[0;34m,\u001b[0m \u001b[0mCFP\u001b[0m\u001b[0;34m.\u001b[0m\u001b[0msplit\u001b[0m\u001b[0;34m(\u001b[0m\u001b[0;34m'/'\u001b[0m\u001b[0;34m)\u001b[0m\u001b[0;34m[\u001b[0m\u001b[0;34m-\u001b[0m\u001b[0;36m1\u001b[0m\u001b[0;34m]\u001b[0m\u001b[0;34m)\u001b[0m\u001b[0;34m.\u001b[0m\u001b[0mgroup\u001b[0m\u001b[0;34m(\u001b[0m\u001b[0;34m'Imagename'\u001b[0m\u001b[0;34m)\u001b[0m\u001b[0;34m\u001b[0m\u001b[0;34m\u001b[0m\u001b[0m\n",
      "\u001b[0;32m~/opt/anaconda3/lib/python3.7/site-packages/skimage/io/_io.py\u001b[0m in \u001b[0;36mimread\u001b[0;34m(fname, as_gray, plugin, **plugin_args)\u001b[0m\n\u001b[1;32m     51\u001b[0m \u001b[0;34m\u001b[0m\u001b[0m\n\u001b[1;32m     52\u001b[0m     \u001b[0;32mwith\u001b[0m \u001b[0mfile_or_url_context\u001b[0m\u001b[0;34m(\u001b[0m\u001b[0mfname\u001b[0m\u001b[0;34m)\u001b[0m \u001b[0;32mas\u001b[0m \u001b[0mfname\u001b[0m\u001b[0;34m:\u001b[0m\u001b[0;34m\u001b[0m\u001b[0;34m\u001b[0m\u001b[0m\n\u001b[0;32m---> 53\u001b[0;31m         \u001b[0mimg\u001b[0m \u001b[0;34m=\u001b[0m \u001b[0mcall_plugin\u001b[0m\u001b[0;34m(\u001b[0m\u001b[0;34m'imread'\u001b[0m\u001b[0;34m,\u001b[0m \u001b[0mfname\u001b[0m\u001b[0;34m,\u001b[0m \u001b[0mplugin\u001b[0m\u001b[0;34m=\u001b[0m\u001b[0mplugin\u001b[0m\u001b[0;34m,\u001b[0m \u001b[0;34m**\u001b[0m\u001b[0mplugin_args\u001b[0m\u001b[0;34m)\u001b[0m\u001b[0;34m\u001b[0m\u001b[0;34m\u001b[0m\u001b[0m\n\u001b[0m\u001b[1;32m     54\u001b[0m \u001b[0;34m\u001b[0m\u001b[0m\n\u001b[1;32m     55\u001b[0m     \u001b[0;32mif\u001b[0m \u001b[0;32mnot\u001b[0m \u001b[0mhasattr\u001b[0m\u001b[0;34m(\u001b[0m\u001b[0mimg\u001b[0m\u001b[0;34m,\u001b[0m \u001b[0;34m'ndim'\u001b[0m\u001b[0;34m)\u001b[0m\u001b[0;34m:\u001b[0m\u001b[0;34m\u001b[0m\u001b[0;34m\u001b[0m\u001b[0m\n",
      "\u001b[0;32m~/opt/anaconda3/lib/python3.7/site-packages/skimage/io/manage_plugins.py\u001b[0m in \u001b[0;36mcall_plugin\u001b[0;34m(kind, *args, **kwargs)\u001b[0m\n\u001b[1;32m    205\u001b[0m                                (plugin, kind))\n\u001b[1;32m    206\u001b[0m \u001b[0;34m\u001b[0m\u001b[0m\n\u001b[0;32m--> 207\u001b[0;31m     \u001b[0;32mreturn\u001b[0m \u001b[0mfunc\u001b[0m\u001b[0;34m(\u001b[0m\u001b[0;34m*\u001b[0m\u001b[0margs\u001b[0m\u001b[0;34m,\u001b[0m \u001b[0;34m**\u001b[0m\u001b[0mkwargs\u001b[0m\u001b[0;34m)\u001b[0m\u001b[0;34m\u001b[0m\u001b[0;34m\u001b[0m\u001b[0m\n\u001b[0m\u001b[1;32m    208\u001b[0m \u001b[0;34m\u001b[0m\u001b[0m\n\u001b[1;32m    209\u001b[0m \u001b[0;34m\u001b[0m\u001b[0m\n",
      "\u001b[0;32m~/opt/anaconda3/lib/python3.7/site-packages/skimage/io/_plugins/tifffile_plugin.py\u001b[0m in \u001b[0;36mimread\u001b[0;34m(fname, **kwargs)\u001b[0m\n\u001b[1;32m     28\u001b[0m         \u001b[0mkwargs\u001b[0m\u001b[0;34m[\u001b[0m\u001b[0;34m'key'\u001b[0m\u001b[0;34m]\u001b[0m \u001b[0;34m=\u001b[0m \u001b[0mkwargs\u001b[0m\u001b[0;34m.\u001b[0m\u001b[0mpop\u001b[0m\u001b[0;34m(\u001b[0m\u001b[0;34m'img_num'\u001b[0m\u001b[0;34m)\u001b[0m\u001b[0;34m\u001b[0m\u001b[0;34m\u001b[0m\u001b[0m\n\u001b[1;32m     29\u001b[0m \u001b[0;34m\u001b[0m\u001b[0m\n\u001b[0;32m---> 30\u001b[0;31m     \u001b[0;32mreturn\u001b[0m \u001b[0mtifffile_imread\u001b[0m\u001b[0;34m(\u001b[0m\u001b[0mfname\u001b[0m\u001b[0;34m,\u001b[0m \u001b[0;34m**\u001b[0m\u001b[0mkwargs\u001b[0m\u001b[0;34m)\u001b[0m\u001b[0;34m\u001b[0m\u001b[0;34m\u001b[0m\u001b[0m\n\u001b[0m",
      "\u001b[0;32m~/opt/anaconda3/lib/python3.7/site-packages/tifffile/tifffile.py\u001b[0m in \u001b[0;36mimread\u001b[0;34m(files, aszarr, **kwargs)\u001b[0m\n\u001b[1;32m    748\u001b[0m \u001b[0;34m\u001b[0m\u001b[0m\n\u001b[1;32m    749\u001b[0m         \u001b[0;32mif\u001b[0m \u001b[0misinstance\u001b[0m\u001b[0;34m(\u001b[0m\u001b[0mfiles\u001b[0m\u001b[0;34m,\u001b[0m \u001b[0;34m(\u001b[0m\u001b[0mstr\u001b[0m\u001b[0;34m,\u001b[0m \u001b[0mos\u001b[0m\u001b[0;34m.\u001b[0m\u001b[0mPathLike\u001b[0m\u001b[0;34m)\u001b[0m\u001b[0;34m)\u001b[0m \u001b[0;32mor\u001b[0m \u001b[0mhasattr\u001b[0m\u001b[0;34m(\u001b[0m\u001b[0mfiles\u001b[0m\u001b[0;34m,\u001b[0m \u001b[0;34m'seek'\u001b[0m\u001b[0;34m)\u001b[0m\u001b[0;34m:\u001b[0m\u001b[0;34m\u001b[0m\u001b[0;34m\u001b[0m\u001b[0m\n\u001b[0;32m--> 750\u001b[0;31m             \u001b[0;32mwith\u001b[0m \u001b[0mTiffFile\u001b[0m\u001b[0;34m(\u001b[0m\u001b[0mfiles\u001b[0m\u001b[0;34m,\u001b[0m \u001b[0;34m**\u001b[0m\u001b[0mkwargs_file\u001b[0m\u001b[0;34m)\u001b[0m \u001b[0;32mas\u001b[0m \u001b[0mtif\u001b[0m\u001b[0;34m:\u001b[0m\u001b[0;34m\u001b[0m\u001b[0;34m\u001b[0m\u001b[0m\n\u001b[0m\u001b[1;32m    751\u001b[0m                 \u001b[0;32mif\u001b[0m \u001b[0maszarr\u001b[0m\u001b[0;34m:\u001b[0m\u001b[0;34m\u001b[0m\u001b[0;34m\u001b[0m\u001b[0m\n\u001b[1;32m    752\u001b[0m                     \u001b[0;32mreturn\u001b[0m \u001b[0mtif\u001b[0m\u001b[0;34m.\u001b[0m\u001b[0maszarr\u001b[0m\u001b[0;34m(\u001b[0m\u001b[0;34m**\u001b[0m\u001b[0mkwargs\u001b[0m\u001b[0;34m)\u001b[0m\u001b[0;34m\u001b[0m\u001b[0;34m\u001b[0m\u001b[0m\n",
      "\u001b[0;32m~/opt/anaconda3/lib/python3.7/site-packages/tifffile/tifffile.py\u001b[0m in \u001b[0;36m__init__\u001b[0;34m(self, arg, name, offset, size, mode, _multifile, _useframes, _master, **kwargs)\u001b[0m\n\u001b[1;32m   2850\u001b[0m         \u001b[0;32mtry\u001b[0m\u001b[0;34m:\u001b[0m\u001b[0;34m\u001b[0m\u001b[0;34m\u001b[0m\u001b[0m\n\u001b[1;32m   2851\u001b[0m             \u001b[0mfh\u001b[0m\u001b[0;34m.\u001b[0m\u001b[0mseek\u001b[0m\u001b[0;34m(\u001b[0m\u001b[0;36m0\u001b[0m\u001b[0;34m)\u001b[0m\u001b[0;34m\u001b[0m\u001b[0;34m\u001b[0m\u001b[0m\n\u001b[0;32m-> 2852\u001b[0;31m             \u001b[0mheader\u001b[0m \u001b[0;34m=\u001b[0m \u001b[0mfh\u001b[0m\u001b[0;34m.\u001b[0m\u001b[0mread\u001b[0m\u001b[0;34m(\u001b[0m\u001b[0;36m4\u001b[0m\u001b[0;34m)\u001b[0m\u001b[0;34m\u001b[0m\u001b[0;34m\u001b[0m\u001b[0m\n\u001b[0m\u001b[1;32m   2853\u001b[0m             \u001b[0;32mtry\u001b[0m\u001b[0;34m:\u001b[0m\u001b[0;34m\u001b[0m\u001b[0;34m\u001b[0m\u001b[0m\n\u001b[1;32m   2854\u001b[0m                 \u001b[0mbyteorder\u001b[0m \u001b[0;34m=\u001b[0m \u001b[0;34m{\u001b[0m\u001b[0;34mb'II'\u001b[0m\u001b[0;34m:\u001b[0m \u001b[0;34m'<'\u001b[0m\u001b[0;34m,\u001b[0m \u001b[0;34mb'MM'\u001b[0m\u001b[0;34m:\u001b[0m \u001b[0;34m'>'\u001b[0m\u001b[0;34m,\u001b[0m \u001b[0;34mb'EP'\u001b[0m\u001b[0;34m:\u001b[0m \u001b[0;34m'<'\u001b[0m\u001b[0;34m}\u001b[0m\u001b[0;34m[\u001b[0m\u001b[0mheader\u001b[0m\u001b[0;34m[\u001b[0m\u001b[0;34m:\u001b[0m\u001b[0;36m2\u001b[0m\u001b[0;34m]\u001b[0m\u001b[0;34m]\u001b[0m\u001b[0;34m\u001b[0m\u001b[0;34m\u001b[0m\u001b[0m\n",
      "\u001b[0;32m~/opt/anaconda3/lib/python3.7/site-packages/tifffile/tifffile.py\u001b[0m in \u001b[0;36mread\u001b[0;34m(self, size)\u001b[0m\n\u001b[1;32m   8632\u001b[0m         \u001b[0;32mif\u001b[0m \u001b[0msize\u001b[0m \u001b[0;34m<\u001b[0m \u001b[0;36m0\u001b[0m \u001b[0;32mand\u001b[0m \u001b[0mself\u001b[0m\u001b[0;34m.\u001b[0m\u001b[0m_offset\u001b[0m\u001b[0;34m:\u001b[0m\u001b[0;34m\u001b[0m\u001b[0;34m\u001b[0m\u001b[0m\n\u001b[1;32m   8633\u001b[0m             \u001b[0msize\u001b[0m \u001b[0;34m=\u001b[0m \u001b[0mself\u001b[0m\u001b[0;34m.\u001b[0m\u001b[0m_size\u001b[0m\u001b[0;34m\u001b[0m\u001b[0;34m\u001b[0m\u001b[0m\n\u001b[0;32m-> 8634\u001b[0;31m         \u001b[0;32mreturn\u001b[0m \u001b[0mself\u001b[0m\u001b[0;34m.\u001b[0m\u001b[0m_fh\u001b[0m\u001b[0;34m.\u001b[0m\u001b[0mread\u001b[0m\u001b[0;34m(\u001b[0m\u001b[0msize\u001b[0m\u001b[0;34m)\u001b[0m\u001b[0;34m\u001b[0m\u001b[0;34m\u001b[0m\u001b[0m\n\u001b[0m\u001b[1;32m   8635\u001b[0m \u001b[0;34m\u001b[0m\u001b[0m\n\u001b[1;32m   8636\u001b[0m     \u001b[0;32mdef\u001b[0m \u001b[0mreadinto\u001b[0m\u001b[0;34m(\u001b[0m\u001b[0mself\u001b[0m\u001b[0;34m,\u001b[0m \u001b[0mb\u001b[0m\u001b[0;34m)\u001b[0m\u001b[0;34m:\u001b[0m\u001b[0;34m\u001b[0m\u001b[0;34m\u001b[0m\u001b[0m\n",
      "\u001b[0;31mKeyboardInterrupt\u001b[0m: "
     ]
    }
   ],
   "source": [
    "timelapse=False\n",
    "shapes = [(512,512),(64,64),(32,32)]\n",
    "models = init_VGG16_pyramid(shapes)\n",
    "frame_segmented = frame_to_labels(raw)\n",
    "\n",
    "if timelapse == False:\n",
    "   pattern = re.compile('(?P<Imagename>[^w]*).*(?P<Channel>FRET|CFP).*')\n",
    "if timelapse == True:       \n",
    "   pattern = re.compile('(?P<Imagename>[^w]*).*(?P<Channel>FRET|CFP).*(?P<Site>s[0-9]+)_t(?P<Timepoint>[0-9]+).*')\n",
    "datatable=pd.DataFrame(columns=[ 'Experiment_ID','Filename', 'Cell_ID', 'Classifier',\n",
    "                                'MeanIntensity_stimmaskRatio','MeanIntensity_cellmaskRatio', \n",
    "                                'MeanIntensity_CFP'])\n",
    "for i, filename in enumerate(FRETfilenames):\n",
    "    FRETframe = io.imread(filename)\n",
    "    #get the pattern from the filename\n",
    "    if timelapse == False:\n",
    "        FRETname=re.search(pattern, filename.split('/')[-1]).group('Imagename')\n",
    "    if timelapse == True:       \n",
    "        FRETname=re.search(pattern, filename.split('/')[-1]).group('Imagename', 'Site', 'Timepoint')\n",
    "    print(filename)\n",
    "    #make segmentation\n",
    "    # if input image has multiple channels, select the correct one here:\n",
    "    #frame = frame[channel_nb,:,:] #where channel_nb is the channel you want to segment on\n",
    "    frame_segmented = frame_to_labels(FRETframe)\n",
    "    frame_mask, table = spot_mask_from_labels(frame_segmented)\n",
    "   \n",
    "    #show first segmentation\n",
    "\n",
    "        \n",
    "    #create a mask for background substraction based on segmentation    \n",
    "\n",
    "\n",
    "    FRET_corrected, masked_frame=flatfield_preprocessing(FRETframe, ch1_flatfield, frame_segmented, ch1_darkcurrent)\n",
    "    io.imsave(os.path.join(output_folder_segmentation, 'ratio', os.path.basename(filename).split('.')[0] + 'FRET'+'.tiff'), FRET_corrected, check_contrast=False)\n",
    "\n",
    "    #FRET_corrected= signal.medfilt(FRET_corrected, kernel_size=[3,3])\n",
    "    \n",
    "    if i == 0:\n",
    "        print('frame_segmented')\n",
    "        plt.imshow(frame_segmented)\n",
    "        plt.show()\n",
    "        print('frame_mask')\n",
    "        plt.imshow(frame_mask)\n",
    "        plt.show()\n",
    "        print('masked_frame')\n",
    "        plt.imshow(masked_frame)\n",
    "        plt.show()\n",
    "        print('FRET_corrected')\n",
    "        plt.imshow(FRET_corrected)\n",
    "        plt.show()\n",
    "        #break\n",
    "    FRET_masked=FRET_corrected.copy()\n",
    "    FRET_masked[frame_segmented==0]=0\n",
    "    io.imsave(os.path.join(output_folder_segmentation,'stim_mask', os.path.basename(filename).split('.')[0]+ 'stimmask' +'.tiff'), frame_mask, check_contrast=False)\n",
    "    io.imsave(os.path.join(output_folder_segmentation, 'mask', os.path.basename(filename).split('.')[0] + 'mask'+'.tiff'), frame_segmented, check_contrast=False)\n",
    "    for CFP in CFPfilenames:\n",
    "        CFPframe=io.imread(CFP)\n",
    "        if timelapse==False:\n",
    "            CFPname=re.search(pattern, CFP.split('/')[-1]).group('Imagename')\n",
    "        if timelapse == True:       \n",
    "            CFPname=re.search(pattern, CFP.split('/')[-1]).group('Imagename','Site', 'Timepoint')\n",
    "        \n",
    "        if CFPname==FRETname:\n",
    "            try:\n",
    "                CFP_corrected, masked_frame=flatfield_preprocessing(CFPframe, ch2_flatfield, frame_segmented, ch2_darkcurrent)\n",
    "                #CFP_corrected=signal.medfilt(CFP_corrected, kernel_size=[3,3])\n",
    "                io.imsave(os.path.join(output_folder_segmentation, 'ratio', os.path.basename(filename).split('.')[0] + 'CFP'+'.tiff'), CFP_corrected, check_contrast=False)\n",
    "\n",
    "                if i==0:\n",
    "                    print ('CFP_corrected')\n",
    "                    plt.imshow(CFP_corrected)\n",
    "                    plt.show()\n",
    "                CFP_masked=CFP_corrected.copy()    \n",
    "                CFP_masked[frame_segmented==0]=0\n",
    "                print('processing file ', i, ' of ', len(FRETfilenames) )              \n",
    "                FRETratio=image_ratioing(FRET_masked, CFP_masked, os.path.join(output_folder_segmentation, 'ratio'), filename.split('/')[-1])\n",
    "                \n",
    "                \n",
    "                for f in np.unique(frame_segmented)[1:]:\n",
    "                    if timelapse==False:\n",
    "                        temp_data={'Experiment_ID': Experiment_ID, 'Filename':filename.split('/')[-1], 'Cell_ID':i, \n",
    "                                   'Classifier': filename.split('/')[-1].split('_')[0], \n",
    "                                   'MeanIntensity_stimmaskRatio': np.mean(np.ma.masked_invalid(FRETratio[(frame_mask>0) & (frame_segmented==f)])),\n",
    "                                   'MeanIntensity_cellmaskRatio':np.mean(np.ma.masked_invalid(FRETratio[frame_segmented==f])),\n",
    "                                   'MeanIntensity_CFP': np.mean(np.ma.masked_invalid(CFP_corrected[frame_segmented==f])),}\n",
    "                    if timelapse==True:\n",
    "                          temp_data={'Experiment_ID': Experiment_ID, 'Filename':''.join(re.search(pattern, filename.split('/')[-1]).group('Imagename', 'Site')),\n",
    "                                     'Cell_ID':i, \n",
    "                                     'Timepoint': re.search(pattern, CFP.split('/')[-1]).group('Timepoint'),\n",
    "                                     'Classifier': filename.split('/')[-1].split('_')[0], \n",
    "                                     'MeanIntensity_stimmaskRatio': np.mean(np.ma.masked_invalid(FRETratio[(frame_mask>0) & (frame_segmented==f)])),\n",
    "                                     'MeanIntensity_cellmaskRatio':np.mean(np.ma.masked_invalid(FRETratio[frame_segmented==f])), \n",
    "                                     'MeanIntensity_CFP': np.mean(np.ma.masked_invalid(CFP_corrected[frame_segmented==f])),\n",
    "                                      'CellEdge_relativeRatio': np.mean(np.ma.masked_invalid(FRETratio[(frame_mask>0) & (frame_segmented==f)]))/np.mean(np.ma.masked_invalid(FRETratio[frame_segmented==f]))}\n",
    "                    datatable=datatable.append(temp_data, ignore_index=True)\n",
    "                    \n",
    "                    FRETratio=ndimage.median_filter(FRETratio, size=2)  \n",
    "                    io.imsave(os.path.join(output_folder_segmentation, 'ratio', os.path.basename(filename).split('.')[0] + 'ratio'+'.tiff'), FRETratio, check_contrast=False)\n",
    "\n",
    "\n",
    "                if i==0:\n",
    "                    #print('FRETframe')\n",
    "                    #plt.imshow(FRETframe)\n",
    "                    #plt.show()\n",
    "                    print('FRETratio')\n",
    "                    \n",
    "                    plt.imshow(FRETratio, cmap='viridis', vmax=1.8)\n",
    "                    plt.show()\n",
    "                    \n",
    "                    \n",
    "                #break\n",
    "            except OSError as e:\n",
    "                print (e) \n",
    "    datatable.to_csv(os.path.join(output_folder_segmentation, Experiment_ID+'.csv'))\n",
    "    #break\n",
    "datatable=datatable[datatable['MeanIntensity_cellmaskRatio']!='--']\n",
    "datatable['MeanIntensity_cellmaskRatio']=datatable['MeanIntensity_cellmaskRatio'].astype(float)\n",
    "datatable['MeanIntensity_stimmaskRatio']=datatable['MeanIntensity_stimmaskRatio'].astype(float)\n",
    "datatable['MeanIntensity_CFP']=datatable['MeanIntensity_CFP'].astype(float)\n",
    "datatable.to_csv(os.path.join(output_folder_segmentation, Experiment_ID+'.csv'))\n",
    "#datatable.to_csv(os.path.join(output_folder_segmentation, Experiment_ID+'.csv'))\n",
    "print('Finished processing all images!')"
   ]
  },
  {
   "cell_type": "code",
   "execution_count": 131,
   "metadata": {},
   "outputs": [],
   "source": [
    "                    temp_data={'Experiment_ID': Experiment_ID, 'Filename':filename.split('/')[-1], 'Cell_ID':i, 'MeanIntensity_stimmaskRatio': np.mean(FRETratio([frame_mask>0]&[frame_segmented[i]])),\n",
    "                    'MeanIntensity_cellmaskRatio':np.mean(FRETratio[frame_segmented[i]]), 'MeanIntensity_CFP':np.mean(CFP_corrected[frame_segmented[i]])}"
   ]
  },
  {
   "cell_type": "code",
   "execution_count": 89,
   "metadata": {},
   "outputs": [
    {
     "name": "stdout",
     "output_type": "stream",
     "text": [
      "1.225992374572406\n",
      "1.225992374572406\n"
     ]
    }
   ],
   "source": [
    "\n",
    "print(np.mean(np.ma.masked_invalid(FRETratio[tuple([frame_mask>0] and [frame_segmented==i])])))\n",
    "print(np.mean(np.ma.masked_invalid(FRETratio[frame_segmented==i])))\n"
   ]
  },
  {
   "cell_type": "code",
   "execution_count": 102,
   "metadata": {},
   "outputs": [
    {
     "data": {
      "text/plain": [
       "30661"
      ]
     },
     "execution_count": 102,
     "metadata": {},
     "output_type": "execute_result"
    }
   ],
   "source": [
    "len(FRETratio[(frame_mask>0) & (frame_segmented==i)])"
   ]
  },
  {
   "cell_type": "code",
   "execution_count": 108,
   "metadata": {},
   "outputs": [
    {
     "data": {
      "text/plain": [
       "0"
      ]
     },
     "execution_count": 108,
     "metadata": {},
     "output_type": "execute_result"
    }
   ],
   "source": [
    "FRETratio[frame_segmented==i])"
   ]
  },
  {
   "cell_type": "code",
   "execution_count": 103,
   "metadata": {},
   "outputs": [
    {
     "data": {
      "text/plain": [
       "'flatfield'"
      ]
     },
     "execution_count": 103,
     "metadata": {},
     "output_type": "execute_result"
    }
   ],
   "source": [
    "filename.split('/')[-1].split('_')[0]"
   ]
  },
  {
   "cell_type": "code",
   "execution_count": 116,
   "metadata": {},
   "outputs": [
    {
     "data": {
      "text/plain": [
       "1.3073466566957381"
      ]
     },
     "execution_count": 116,
     "metadata": {},
     "output_type": "execute_result"
    }
   ],
   "source": [
    "np.mean(np.ma.masked_invalid(FRETratio[(frame_mask>0) & (frame_segmented==f)]))"
   ]
  },
  {
   "cell_type": "code",
   "execution_count": 111,
   "metadata": {},
   "outputs": [
    {
     "name": "stdout",
     "output_type": "stream",
     "text": [
      "63\n"
     ]
    }
   ],
   "source": [
    "print(i)"
   ]
  },
  {
   "cell_type": "code",
   "execution_count": 117,
   "metadata": {},
   "outputs": [
    {
     "data": {
      "text/plain": [
       "1.376080839120827"
      ]
     },
     "execution_count": 117,
     "metadata": {},
     "output_type": "execute_result"
    }
   ],
   "source": [
    "np.mean(np.ma.masked_invalid(FRETratio[frame_segmented==i]))"
   ]
  },
  {
   "cell_type": "code",
   "execution_count": null,
   "metadata": {},
   "outputs": [],
   "source": []
  }
 ],
 "metadata": {
  "kernelspec": {
   "display_name": "Python 3",
   "language": "python",
   "name": "python3"
  },
  "language_info": {
   "codemirror_mode": {
    "name": "ipython",
    "version": 3
   },
   "file_extension": ".py",
   "mimetype": "text/x-python",
   "name": "python",
   "nbconvert_exporter": "python",
   "pygments_lexer": "ipython3",
   "version": "3.7.11"
  }
 },
 "nbformat": 4,
 "nbformat_minor": 4
}
